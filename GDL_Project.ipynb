{
  "nbformat": 4,
  "nbformat_minor": 0,
  "metadata": {
    "colab": {
      "provenance": [],
      "collapsed_sections": [
        "sb0nqvJJTeR6",
        "V43q8qM8ziro",
        "RjuaU_ieQEkj"
      ],
      "toc_visible": true
    },
    "kernelspec": {
      "name": "python3",
      "display_name": "Python 3"
    },
    "language_info": {
      "name": "python"
    },
    "gpuClass": "standard",
    "accelerator": "GPU"
  },
  "cells": [
    {
      "cell_type": "markdown",
      "source": [
        "# Imports"
      ],
      "metadata": {
        "id": "btTr_UW7P_Tx"
      }
    },
    {
      "cell_type": "code",
      "execution_count": 1,
      "metadata": {
        "colab": {
          "base_uri": "https://localhost:8080/"
        },
        "id": "fr6uT7MdP7yY",
        "outputId": "ab2cdb41-1278-4427-ca6c-d748a21bc847"
      },
      "outputs": [
        {
          "output_type": "stream",
          "name": "stdout",
          "text": [
            "Looking in indexes: https://pypi.org/simple, https://us-python.pkg.dev/colab-wheels/public/simple/\n",
            "Requirement already satisfied: torch in /usr/local/lib/python3.9/dist-packages (2.0.0+cu118)\n",
            "Requirement already satisfied: typing-extensions in /usr/local/lib/python3.9/dist-packages (from torch) (4.5.0)\n",
            "Requirement already satisfied: sympy in /usr/local/lib/python3.9/dist-packages (from torch) (1.11.1)\n",
            "Requirement already satisfied: networkx in /usr/local/lib/python3.9/dist-packages (from torch) (3.0)\n",
            "Requirement already satisfied: jinja2 in /usr/local/lib/python3.9/dist-packages (from torch) (3.1.2)\n",
            "Requirement already satisfied: triton==2.0.0 in /usr/local/lib/python3.9/dist-packages (from torch) (2.0.0)\n",
            "Requirement already satisfied: filelock in /usr/local/lib/python3.9/dist-packages (from torch) (3.10.7)\n",
            "Requirement already satisfied: lit in /usr/local/lib/python3.9/dist-packages (from triton==2.0.0->torch) (16.0.0)\n",
            "Requirement already satisfied: cmake in /usr/local/lib/python3.9/dist-packages (from triton==2.0.0->torch) (3.25.2)\n",
            "Requirement already satisfied: MarkupSafe>=2.0 in /usr/local/lib/python3.9/dist-packages (from jinja2->torch) (2.1.2)\n",
            "Requirement already satisfied: mpmath>=0.19 in /usr/local/lib/python3.9/dist-packages (from sympy->torch) (1.3.0)\n",
            "Looking in indexes: https://pypi.org/simple, https://us-python.pkg.dev/colab-wheels/public/simple/\n",
            "Requirement already satisfied: networkx in /usr/local/lib/python3.9/dist-packages (3.0)\n",
            "Looking in indexes: https://pypi.org/simple, https://us-python.pkg.dev/colab-wheels/public/simple/\n",
            "Collecting torch_geometric\n",
            "  Downloading torch_geometric-2.3.0.tar.gz (616 kB)\n",
            "\u001b[2K     \u001b[90m━━━━━━━━━━━━━━━━━━━━━━━━━━━━━━━━━━━━━━━\u001b[0m \u001b[32m616.2/616.2 kB\u001b[0m \u001b[31m7.2 MB/s\u001b[0m eta \u001b[36m0:00:00\u001b[0m\n",
            "\u001b[?25h  Installing build dependencies ... \u001b[?25l\u001b[?25hdone\n",
            "  Getting requirements to build wheel ... \u001b[?25l\u001b[?25hdone\n",
            "  Preparing metadata (pyproject.toml) ... \u001b[?25l\u001b[?25hdone\n",
            "Requirement already satisfied: jinja2 in /usr/local/lib/python3.9/dist-packages (from torch_geometric) (3.1.2)\n",
            "Requirement already satisfied: requests in /usr/local/lib/python3.9/dist-packages (from torch_geometric) (2.27.1)\n",
            "Requirement already satisfied: pyparsing in /usr/local/lib/python3.9/dist-packages (from torch_geometric) (3.0.9)\n",
            "Requirement already satisfied: psutil>=5.8.0 in /usr/local/lib/python3.9/dist-packages (from torch_geometric) (5.9.4)\n",
            "Requirement already satisfied: scipy in /usr/local/lib/python3.9/dist-packages (from torch_geometric) (1.10.1)\n",
            "Requirement already satisfied: scikit-learn in /usr/local/lib/python3.9/dist-packages (from torch_geometric) (1.2.2)\n",
            "Requirement already satisfied: tqdm in /usr/local/lib/python3.9/dist-packages (from torch_geometric) (4.65.0)\n",
            "Requirement already satisfied: numpy in /usr/local/lib/python3.9/dist-packages (from torch_geometric) (1.22.4)\n",
            "Requirement already satisfied: MarkupSafe>=2.0 in /usr/local/lib/python3.9/dist-packages (from jinja2->torch_geometric) (2.1.2)\n",
            "Requirement already satisfied: charset-normalizer~=2.0.0 in /usr/local/lib/python3.9/dist-packages (from requests->torch_geometric) (2.0.12)\n",
            "Requirement already satisfied: urllib3<1.27,>=1.21.1 in /usr/local/lib/python3.9/dist-packages (from requests->torch_geometric) (1.26.15)\n",
            "Requirement already satisfied: certifi>=2017.4.17 in /usr/local/lib/python3.9/dist-packages (from requests->torch_geometric) (2022.12.7)\n",
            "Requirement already satisfied: idna<4,>=2.5 in /usr/local/lib/python3.9/dist-packages (from requests->torch_geometric) (3.4)\n",
            "Requirement already satisfied: threadpoolctl>=2.0.0 in /usr/local/lib/python3.9/dist-packages (from scikit-learn->torch_geometric) (3.1.0)\n",
            "Requirement already satisfied: joblib>=1.1.1 in /usr/local/lib/python3.9/dist-packages (from scikit-learn->torch_geometric) (1.1.1)\n",
            "Building wheels for collected packages: torch_geometric\n",
            "  Building wheel for torch_geometric (pyproject.toml) ... \u001b[?25l\u001b[?25hdone\n",
            "  Created wheel for torch_geometric: filename=torch_geometric-2.3.0-py3-none-any.whl size=909897 sha256=9cf9a7563bd1c4248c44cdef7f5352d25420cce89ca1c2fe477b30eac177e2fc\n",
            "  Stored in directory: /root/.cache/pip/wheels/cd/7d/6b/17150450b80b4a3656a84330e22709ccd8dc0f8f4773ba4133\n",
            "Successfully built torch_geometric\n",
            "Installing collected packages: torch_geometric\n",
            "Successfully installed torch_geometric-2.3.0\n"
          ]
        }
      ],
      "source": [
        "#!pip install torch==1.12.1+cu113 torchvision==0.13.1+cu113 torchaudio==0.12.1 --extra-index-url https://download.pytorch.org/whl/cu113\n",
        "### INSTALLATION OF PACKAGES ###\n",
        "!pip install torch\n",
        "#!pip install torch-scatter \n",
        "#!pip install torch-sparse \n",
        "#!pip install -q git+https://github.com/pyg-team/pytorch_geometric.git\n",
        "\n",
        "!pip install networkx\n",
        "!pip install torch_geometric"
      ]
    },
    {
      "cell_type": "code",
      "source": [
        "### IMPORTS ###\n",
        "import os\n",
        "import time\n",
        "import random\n",
        "import numpy as np\n",
        "import networkx as nx\n",
        "from math import ceil\n",
        "\n",
        "from scipy.stats import ortho_group\n",
        "\n",
        "import torch.nn.functional as F\n",
        "import torch\n",
        "import torch.nn as nn\n",
        "from torch.nn import Linear, ReLU, BatchNorm1d, Module, Sequential\n",
        "\n",
        "\n",
        "from torch_geometric.nn import global_max_pool as gmp\n",
        "from torch_geometric.nn import global_mean_pool as gap\n",
        "from torch_geometric.utils.convert import to_networkx, from_networkx\n",
        "import torch_geometric\n",
        "from torch_geometric.data import Data, Batch\n",
        "import torch_geometric.transforms as T\n",
        "from torch_geometric.utils import remove_self_loops, to_dense_adj, dense_to_sparse, get_laplacian\n",
        "from torch_geometric.loader import DataLoader, GraphSAINTRandomWalkSampler, DenseDataLoader\n",
        "from torch_geometric.nn import MessagePassing, global_mean_pool, GCNConv, DenseSAGEConv, DenseSAGEConv, dense_diff_pool, GraphConv, TopKPooling\n",
        "from torch_geometric.datasets import Planetoid, GNNBenchmarkDataset, LRGBDataset\n",
        "\n",
        "\n",
        "from torch_geometric.datasets import GNNBenchmarkDataset\n",
        "from torch_geometric.datasets import TUDataset\n",
        "from torch_geometric.nn import SAGEConv\n",
        "#from torch_scatter import scatter\n",
        "#from torch_sparse import SparseTensor\n",
        "\n",
        "import matplotlib.pyplot as plt\n",
        "import seaborn as sns\n",
        "import pandas as pd\n",
        "\n",
        "from google.colab import files\n",
        "from IPython.display import HTML\n",
        "\n",
        "print(\"PyTorch version {}\".format(torch.__version__))\n",
        "print(\"PyG version {}\".format(torch_geometric.__version__))"
      ],
      "metadata": {
        "colab": {
          "base_uri": "https://localhost:8080/"
        },
        "id": "3763O0tbQVFF",
        "outputId": "34404c6f-5554-4e6e-dc04-f5dd15ebf5a9"
      },
      "execution_count": 2,
      "outputs": [
        {
          "output_type": "stream",
          "name": "stdout",
          "text": [
            "PyTorch version 2.0.0+cu118\n",
            "PyG version 2.3.0\n"
          ]
        }
      ]
    },
    {
      "cell_type": "code",
      "source": [
        "device = torch.device('cuda' if torch.cuda.is_available() else 'cpu')\n",
        "print(device)"
      ],
      "metadata": {
        "colab": {
          "base_uri": "https://localhost:8080/"
        },
        "id": "IccxAbUh3yEf",
        "outputId": "c99c92c0-1b3d-4457-ee6a-63abe43c4f98"
      },
      "execution_count": 3,
      "outputs": [
        {
          "output_type": "stream",
          "name": "stdout",
          "text": [
            "cuda\n"
          ]
        }
      ]
    },
    {
      "cell_type": "markdown",
      "source": [
        "#Loading Dataset"
      ],
      "metadata": {
        "id": "sh4AZP4bQB5p"
      }
    },
    {
      "cell_type": "code",
      "source": [
        "# Transforms functions (for dense rep)\n",
        "\n",
        "class filter(object):\n",
        "    def __call__(self, data):\n",
        "        return data.num_nodes <= max_nodes\n",
        "\n",
        "## Loading ENZYME dataset ##\n",
        "max_nodes = 200\n",
        "ENZYMES = TUDataset(root='/tmp/ENZYMES', name='ENZYMES')\n",
        "ENZYMES_Dense = TUDataset(root='/tmp/ENZYMES', name='ENZYMES', transform=T.ToDense(max_nodes),pre_filter=filter())\n",
        "\n",
        "## Loading Peptides-func\n",
        "PEPTIDES = LRGBDataset(root = 'tmp/Peptides-func', name = 'Peptides-func')\n",
        "\n",
        "## Loading CLUSTER dataset ##\n",
        "max_nodes = 1000\n",
        "CLUSTER = GNNBenchmarkDataset(root = 'tmp/CLUSTER', name = 'CLUSTER')[:1000]\n",
        "CLUSTER_Dense = GNNBenchmarkDataset(root = 'tmp/CLUSTER', name = 'CLUSTER', transform=T.ToDense(max_nodes),pre_filter=filter())\n",
        "\n",
        "## Loading PROTEINS dataset ##\n",
        "PROTEINS = TUDataset(root = 'tmp/PROTEINS', name = 'PROTEINS')\n",
        "PROTEINS_Dense = TUDataset(root = 'tmp/PROTEINS', name='PROTEINS', transform=T.ToDense(max_nodes),pre_filter=filter())"
      ],
      "metadata": {
        "id": "ZEZhUz7Nuunx",
        "colab": {
          "base_uri": "https://localhost:8080/"
        },
        "outputId": "798af5d8-ea0d-4884-a0ef-9b5c31319b73"
      },
      "execution_count": 4,
      "outputs": [
        {
          "output_type": "stream",
          "name": "stderr",
          "text": [
            "Downloading https://www.chrsmrrs.com/graphkerneldatasets/ENZYMES.zip\n",
            "Extracting /tmp/ENZYMES/ENZYMES/ENZYMES.zip\n",
            "Processing...\n",
            "Done!\n",
            "/usr/local/lib/python3.9/dist-packages/torch_geometric/data/dataset.py:217: UserWarning: The `pre_filter` argument differs from the one used in the pre-processed version of this dataset. If you want to make use of another pre-fitering technique, make sure to delete '{self.processed_dir}' first\n",
            "  warnings.warn(\n",
            "Downloading https://www.dropbox.com/s/ycsq37q8sxs1ou8/peptidesfunc.zip?dl=1\n",
            "Extracting tmp/Peptides-func/peptidesfunc.zip\n",
            "Processing...\n",
            "Processing train dataset: 100%|██████████| 10873/10873 [00:00<00:00, 22469.99it/s]\n",
            "Processing val dataset: 100%|██████████| 2331/2331 [00:00<00:00, 6997.30it/s]\n",
            "Processing test dataset: 100%|██████████| 2331/2331 [00:00<00:00, 9481.97it/s] \n",
            "Done!\n",
            "Downloading https://data.pyg.org/datasets/benchmarking-gnns/CLUSTER_v2.zip\n",
            "Extracting tmp/CLUSTER/CLUSTER/raw/CLUSTER_v2.zip\n",
            "Processing...\n",
            "Done!\n",
            "Downloading https://www.chrsmrrs.com/graphkerneldatasets/PROTEINS.zip\n",
            "Extracting tmp/PROTEINS/PROTEINS/PROTEINS.zip\n",
            "Processing...\n",
            "Done!\n"
          ]
        }
      ]
    },
    {
      "cell_type": "markdown",
      "source": [
        "## Pre-processing Data"
      ],
      "metadata": {
        "id": "Py0jOl99C-Vp"
      }
    },
    {
      "cell_type": "code",
      "source": [
        "# Pre-processing functions\n",
        "def one_hot_encoder(data, num_classes, size):\n",
        "  ## Function to 1-hot encode a 1-d Array such as data.y in PyG\n",
        "  matrix = np.zeros((size, num_classes))\n",
        "  for value in range(size):\n",
        "    matrix[value][data[value]] = 1\n",
        "  return matrix\n",
        "\n",
        "\n",
        "def train_test_split(dataset, percent_train):\n",
        "  split_indices = np.random.choice(len(dataset), size=int(percent_train * len(dataset)), replace=False)\n",
        "  # train split\n",
        "  train = dataset[split_indices]\n",
        "  # test split\n",
        "  test = dataset[~np.isin(np.arange(len(dataset)), split_indices)]\n",
        "  return train, test\n",
        "\n",
        "\n",
        "\n",
        "## Splitting datasets\n",
        "ENZYMES_classes = ENZYMES.num_classes\n",
        "ENZYMES_node_features = ENZYMES.num_features\n",
        "\n",
        "train_dataset, test_dataset = train_test_split(ENZYMES,0.8)\n",
        "train_loader_ENZYMES = DataLoader(train_dataset, batch_size=32, shuffle=True)\n",
        "test_loader_ENZYMES = DataLoader(test_dataset, batch_size=32, shuffle=False)\n",
        "\n",
        "train_dataset_dense, test_dataset_dense = train_test_split(ENZYMES_Dense,0.8)\n",
        "train_loader_ENZYMES_Dense = DenseDataLoader(train_dataset_dense, batch_size=32, shuffle=True)\n",
        "test_loader_ENZYMES_Dense = DenseDataLoader(test_dataset_dense, batch_size=32, shuffle=False)\n",
        "\n",
        "## -- \n",
        "\n",
        "PEPTIDES_classes = PEPTIDES.num_classes\n",
        "PEPTIDES_node_features = PEPTIDES.num_features\n",
        "\n",
        "\n",
        "train_dataset_peptides, test_dataset_peptides = train_test_split(PEPTIDES[:2000],0.8)\n",
        "train_loader_PEPTIDES = DataLoader(train_dataset_peptides, batch_size=32, shuffle=True)\n",
        "test_loader_PEPTIDES = DataLoader(test_dataset_peptides, batch_size=32, shuffle=False)\n",
        "\n",
        "## --\n",
        "\n",
        "\n",
        "CLUSTER_classes = CLUSTER.num_classes\n",
        "CLUSTER_node_features = CLUSTER.num_features\n",
        "\n",
        "train_dataset_CLUSTER, test_dataset_CLUSTER = train_test_split(CLUSTER,0.8)\n",
        "train_loader_CLUSTER = DataLoader(train_dataset, batch_size=32, shuffle=True)\n",
        "test_loader_CLUSTER = DataLoader(test_dataset, batch_size=32, shuffle=False)\n",
        "\n",
        "train_dataset_CLUSTER_Dense, test_dataset_CLUSTER_Dense = train_test_split(CLUSTER_Dense,0.8)\n",
        "train_loader_CLUSTER_Dense = DenseDataLoader(train_dataset_CLUSTER_Dense, batch_size=32, shuffle=True)\n",
        "test_loader_CLUSTER_Dense = DenseDataLoader(test_dataset_CLUSTER_Dense, batch_size=32, shuffle=False)\n",
        "\n",
        "\n",
        "\n",
        "PROTEINS_classes = PROTEINS.num_classes\n",
        "PROTEINS_node_features = PROTEINS.num_features\n",
        "\n",
        "train_dataset_PROTEINS, test_dataset_PROTEINS = train_test_split(ENZYMES,0.8)\n",
        "train_loader_PROTEINS = DataLoader(train_dataset_PROTEINS[:1000], batch_size=32, shuffle=True)\n",
        "test_loader_PROTEINS = DataLoader(test_dataset_PROTEINS[:250], batch_size=32, shuffle=False)\n",
        "\n",
        "train_dataset_PROTEINS_dense, test_dataset_PROTEINS_dense = train_test_split(PROTEINS_Dense,0.8)\n",
        "train_loader_ENZYMES_PROTEINS_Dense = DenseDataLoader(train_dataset_PROTEINS_dense, batch_size=32, shuffle=True)\n",
        "test_loader_ENZYMES_PROTEINS_Dense = DenseDataLoader(test_dataset_PROTEINS_dense, batch_size=32, shuffle=False)\n",
        "\n",
        "\n"
      ],
      "metadata": {
        "id": "DfPIWM5W4xoY"
      },
      "execution_count": 7,
      "outputs": []
    },
    {
      "cell_type": "markdown",
      "source": [
        "#Regular  GCN\n",
        "We will use simple 3-layer GCN and GraphSAINT "
      ],
      "metadata": {
        "id": "kB5wlSuZvv8Y"
      }
    },
    {
      "cell_type": "code",
      "source": [
        "class GraphConvClassifier(torch.nn.Module):\n",
        "  def __init__(self, input_dim, hidden_dim, output_dim, num_layers, dropout_p = 0):\n",
        "    super(GraphConvClassifier, self).__init__()\n",
        "\n",
        "    self.dropout_rate = dropout_p\n",
        "\n",
        "    self.layers = nn.ModuleList(\n",
        "        [GCNConv(input_dim, hidden_dim)]+\n",
        "        [GCNConv(hidden_dim, hidden_dim) for i in range(num_layers -1)]+\n",
        "        [nn.Linear(hidden_dim, output_dim)]\n",
        "    )\n",
        "\n",
        "  def forward(self, x, edge_index, batch):\n",
        "    for layer in self.layers[:-1]:\n",
        "      x = layer(x , edge_index)\n",
        "      x = F.relu(x)\n",
        "      x = F.dropout(x, p=self.dropout_rate)\n",
        "    x = global_mean_pool(x, batch)\n",
        "    x = self.layers[-1](x)\n",
        "    return F.softmax(x, dim=1)\n",
        "\n",
        "\n",
        "class GraphConvClassifierBinary(torch.nn.Module):\n",
        "  def __init__(self, input_dim, hidden_dim, output_dim, num_layers, dropout_p = 0):\n",
        "    super(GraphConvClassifierBinary, self).__init__()\n",
        "\n",
        "    self.dropout_rate = dropout_p\n",
        "\n",
        "    self.layers = nn.ModuleList(\n",
        "        [GCNConv(input_dim, hidden_dim)]+\n",
        "        [GCNConv(hidden_dim, hidden_dim) for i in range(num_layers -1)]+\n",
        "        [nn.Linear(hidden_dim, output_dim)]\n",
        "    )\n",
        "\n",
        "  def forward(self, x, edge_index, batch):\n",
        "    for layer in self.layers[:-1]:\n",
        "      x = layer(x , edge_index)\n",
        "      x = F.relu(x)\n",
        "      x = F.dropout(x, p=self.dropout_rate)\n",
        "    x = global_mean_pool(x, batch)\n",
        "    x = self.layers[-1](x)\n",
        "    return F.sigmoid(x)\n",
        "\n"
      ],
      "metadata": {
        "id": "3UBkbVc1vwD-"
      },
      "execution_count": 6,
      "outputs": []
    },
    {
      "cell_type": "code",
      "source": [
        "def train_graph_classification(model, train_loader, test_loader, num_epochs, lr = 0.01):\n",
        "    # Set up the loss and the optimizer\n",
        "    loss_fn = nn.CrossEntropyLoss()\n",
        "    optimizer = torch.optim.Adam(model.parameters(), lr= lr)\n",
        "    Test_acc = []\n",
        "    # A utility function to compute the accuracy\n",
        "    def get_acc(model, loader):\n",
        "        model.eval()\n",
        "        n_total = 0.000000001 #Avoid division by Zero\n",
        "        num_identical = 0\n",
        "        for data in loader:\n",
        "            data = data.to(device)\n",
        "            outs = model(data.x.float(), data.edge_index, data.batch).squeeze()\n",
        "            test_class = np.argmax(outs.detach().cpu().numpy(), axis=1)\n",
        "            outs = test_class.tolist()  \n",
        "            num_identical += np.sum(outs == data.y.detach().cpu().numpy())\n",
        "            n_total += data.y.shape[0]\n",
        "        return num_identical/n_total\n",
        "\n",
        "\n",
        "\n",
        "    for epoch in range(num_epochs):        \n",
        "        for data in train_loader:\n",
        "            # Zero grads -> forward pass -> compute loss -> backprop\n",
        "            data = data.to(device)\n",
        "            optimizer.zero_grad()\n",
        "            outs = model(data.x.float(), data.edge_index, data.batch).squeeze()\n",
        "            test_class = torch.argmax(outs, dim=1).float()\n",
        "            loss = loss_fn(outs.float(), data.y) \n",
        "            loss.backward()\n",
        "            optimizer.step()\n",
        "\n",
        "        # Compute accuracies\n",
        "        acc_train = get_acc(model, train_loader)\n",
        "        acc_test = get_acc(model, test_loader)\n",
        "        Test_acc.append(acc_test)\n",
        "        #print(f'[Epoch {epoch+1}/{num_epochs}] Loss: {loss} | Train: {acc_train:.3f} | Test: {acc_test:.3f}')\n",
        "    return Test_acc\n",
        "\n",
        "\n",
        "def train_graph_classification_binary(model, train_loader, test_loader, num_epochs, lr = 0.01):\n",
        "    # Set up the loss and the optimizer\n",
        "    loss_fn = nn.BCELoss()\n",
        "    optimizer = torch.optim.Adam(model.parameters(), lr= lr)\n",
        "    Test_acc = []\n",
        "    # A utility function to compute the accuracy\n",
        "    def get_acc(model, loader):\n",
        "        model.eval()\n",
        "        n_total = 0.000000001 #Avoid division by Zero\n",
        "        num_identical = 0\n",
        "        for data in loader:\n",
        "            data = data.to(device)\n",
        "            outs = model(data.x.float(), data.edge_index, data.batch).squeeze()\n",
        "            outs = torch.round(outs,decimals=0)\n",
        "            #test_class = np.argmax(outs.detach().numpy(), axis=1)\n",
        "            #outs = test_class.tolist()  \n",
        "            num_identical += np.sum(outs.detach().cpu().numpy() == data.y[:,4].detach().cpu().numpy())\n",
        "            n_total += data.y.shape[0]\n",
        "        return num_identical/n_total\n",
        "\n",
        "\n",
        "\n",
        "    for epoch in range(num_epochs):        \n",
        "        for data in train_loader:\n",
        "            # Zero grads -> forward pass -> compute loss -> backprop\n",
        "            data = data.to(device)\n",
        "            optimizer.zero_grad()\n",
        "            outs = model(data.x.float(), data.edge_index, data.batch).squeeze()\n",
        "            #test_class = torch.argmax(outs, dim=1).float()\n",
        "            loss = loss_fn(outs.float(), data.y[:,4]) \n",
        "            loss.backward()\n",
        "            optimizer.step()\n",
        "\n",
        "        # Compute accuracies\n",
        "        acc_train = get_acc(model, train_loader)\n",
        "        acc_test = get_acc(model, test_loader)\n",
        "        Test_acc.append(acc_test)\n",
        "        #print(f'[Epoch {epoch+1}/{num_epochs}] Loss: {loss} | Train: {acc_train:.3f} | Test: {acc_test:.3f}')\n",
        "    return Test_acc"
      ],
      "metadata": {
        "id": "9YH2t0E23rH-"
      },
      "execution_count": 7,
      "outputs": []
    },
    {
      "cell_type": "markdown",
      "source": [
        "## Enzymes"
      ],
      "metadata": {
        "id": "U9Szj9g83op4"
      }
    },
    {
      "cell_type": "code",
      "source": [
        "#Enzymes\n",
        "model = GraphConvClassifier(input_dim = ENZYMES_node_features, hidden_dim = 64, output_dim = ENZYMES_classes, num_layers = 3).to(device)\n",
        "\n",
        "tic = time.time()\n",
        "results_GCN = train_graph_classification(model,train_loader_ENZYMES, test_loader_ENZYMES, 250, 0.001)\n",
        "toc = time.time()\n",
        "\n",
        "print('Training took: ', toc-tic)\n"
      ],
      "metadata": {
        "id": "oQ7O4AzX3wDy",
        "colab": {
          "base_uri": "https://localhost:8080/"
        },
        "outputId": "a5e37329-174b-4bbe-ffe8-3e87c53ffdd7"
      },
      "execution_count": 8,
      "outputs": [
        {
          "output_type": "stream",
          "name": "stdout",
          "text": [
            "Training took:  48.13341975212097\n"
          ]
        }
      ]
    },
    {
      "cell_type": "markdown",
      "source": [
        "## Peptides"
      ],
      "metadata": {
        "id": "zbxPGUN-cHv9"
      }
    },
    {
      "cell_type": "code",
      "source": [
        "## Peptides\n",
        "model = GraphConvClassifierBinary(input_dim = PEPTIDES_node_features, hidden_dim = 64, output_dim = 1, num_layers = 3).to(device)\n",
        "\n",
        "tic = time.time()\n",
        "results_GCN_peptides = train_graph_classification_binary(model,train_loader_PEPTIDES, test_loader_PEPTIDES, 100, 0.001)\n",
        "toc = time.time()\n",
        "\n",
        "print('Training took: ', toc-tic)\n"
      ],
      "metadata": {
        "colab": {
          "base_uri": "https://localhost:8080/"
        },
        "id": "MUk-0xjVi0BR",
        "outputId": "f0f52cf3-945b-4e10-f319-2bb7150100b0"
      },
      "execution_count": 24,
      "outputs": [
        {
          "output_type": "stream",
          "name": "stdout",
          "text": [
            "Training took:  72.59014320373535\n"
          ]
        }
      ]
    },
    {
      "cell_type": "markdown",
      "source": [
        "# TopKPooling"
      ],
      "metadata": {
        "id": "1iWg8Y8P64qP"
      }
    },
    {
      "cell_type": "code",
      "source": [
        "class Top_K_Pooling_Graph_Classifier(torch.nn.Module):\n",
        "    def __init__(self, input_dim, hidden_dim, output_dim, dropout = 0.95):\n",
        "        super().__init__()\n",
        "\n",
        "        self.conv1 = GraphConv(input_dim, hidden_dim)\n",
        "        self.pool1 = TopKPooling(hidden_dim, ratio=dropout)\n",
        "        self.conv2 = GraphConv(hidden_dim, hidden_dim)\n",
        "        self.pool2 = TopKPooling(hidden_dim, ratio=dropout)\n",
        "        self.conv3 = GraphConv(hidden_dim, hidden_dim)\n",
        "        self.pool3 = TopKPooling(hidden_dim, ratio=dropout)\n",
        "\n",
        "        self.lin1 = torch.nn.Linear(2*hidden_dim, hidden_dim)\n",
        "        self.lin2 = torch.nn.Linear(hidden_dim, 32)\n",
        "        self.lin3 = torch.nn.Linear(32, output_dim)\n",
        "\n",
        "    #def forward(self, data):\n",
        "    def forward(self, x, edge_index, batch):\n",
        "        #x, edge_index, batch = data.x, data.edge_index, data.batch\n",
        "\n",
        "        x = F.relu(self.conv1(x, edge_index))\n",
        "        x, edge_index, _, batch, _, _ = self.pool1(x, edge_index, None, batch)\n",
        "        x1 = torch.cat([gmp(x, batch), gap(x, batch)], dim=1)\n",
        "\n",
        "        x = F.relu(self.conv2(x, edge_index))\n",
        "        x, edge_index, _, batch, _, _ = self.pool2(x, edge_index, None, batch)\n",
        "        x2 = torch.cat([gmp(x, batch), gap(x, batch)], dim=1)\n",
        "\n",
        "        x = F.relu(self.conv3(x, edge_index))\n",
        "        x, edge_index, _, batch, _, _ = self.pool3(x, edge_index, None, batch)\n",
        "        x3 = torch.cat([gmp(x, batch), gap(x, batch)], dim=1)\n",
        "\n",
        "        x = x1 + x2 + x3\n",
        "\n",
        "        x = F.relu(self.lin1(x))\n",
        "        x = F.dropout(x, p=0.5, training=self.training)\n",
        "        x = F.relu(self.lin2(x))\n",
        "        x = F.log_softmax(self.lin3(x), dim=-1)\n",
        "\n",
        "        return x\n",
        "\n",
        "\n",
        "\n",
        "class Top_K_Pooling_Graph_Classifier_Binary(torch.nn.Module):\n",
        "    def __init__(self, input_dim, hidden_dim, output_dim, dropout = 0.95):\n",
        "        super().__init__()\n",
        "\n",
        "        self.conv1 = GraphConv(input_dim, hidden_dim)\n",
        "        self.pool1 = TopKPooling(hidden_dim, ratio=dropout)\n",
        "        self.conv2 = GraphConv(hidden_dim, hidden_dim)\n",
        "        self.pool2 = TopKPooling(hidden_dim, ratio=dropout)\n",
        "        self.conv3 = GraphConv(hidden_dim, hidden_dim)\n",
        "        self.pool3 = TopKPooling(hidden_dim, ratio=dropout)\n",
        "\n",
        "        self.lin1 = torch.nn.Linear(2*hidden_dim, hidden_dim)\n",
        "        self.lin2 = torch.nn.Linear(hidden_dim, 32)\n",
        "        self.lin3 = torch.nn.Linear(32, output_dim)\n",
        "\n",
        "    #def forward(self, data):\n",
        "    def forward(self, x, edge_index, batch):\n",
        "        #x, edge_index, batch = data.x, data.edge_index, data.batch\n",
        "\n",
        "        x = F.relu(self.conv1(x, edge_index))\n",
        "        x, edge_index, _, batch, _, _ = self.pool1(x, edge_index, None, batch)\n",
        "        x1 = torch.cat([gmp(x, batch), gap(x, batch)], dim=1)\n",
        "\n",
        "        x = F.relu(self.conv2(x, edge_index))\n",
        "        x, edge_index, _, batch, _, _ = self.pool2(x, edge_index, None, batch)\n",
        "        x2 = torch.cat([gmp(x, batch), gap(x, batch)], dim=1)\n",
        "\n",
        "        x = F.relu(self.conv3(x, edge_index))\n",
        "        x, edge_index, _, batch, _, _ = self.pool3(x, edge_index, None, batch)\n",
        "        x3 = torch.cat([gmp(x, batch), gap(x, batch)], dim=1)\n",
        "\n",
        "        x = x1 + x2 + x3\n",
        "\n",
        "        x = F.relu(self.lin1(x))\n",
        "        x = F.dropout(x, p=0.5, training=self.training)\n",
        "        x = F.relu(self.lin2(x))\n",
        "        x = F.sigmoid(self.lin3(x))\n",
        "\n",
        "        return x"
      ],
      "metadata": {
        "id": "BZSN1kBm641z"
      },
      "execution_count": 10,
      "outputs": []
    },
    {
      "cell_type": "code",
      "source": [
        "model = Top_K_Pooling_Graph_Classifier(input_dim = ENZYMES_node_features, hidden_dim = 64, output_dim = ENZYMES_classes).to(device)\n",
        "\n",
        "tic = time.time()\n",
        "\n",
        "results_topk = train_graph_classification(model,train_loader_ENZYMES, test_loader_ENZYMES, 250, 0.001 )\n",
        "toc = time.time()\n",
        "\n",
        "print('Training took: ', toc-tic)\n"
      ],
      "metadata": {
        "id": "O8Kgm1y_80iK",
        "colab": {
          "base_uri": "https://localhost:8080/"
        },
        "outputId": "937a747c-ba21-4bc7-a889-aedaf7836c25"
      },
      "execution_count": 14,
      "outputs": [
        {
          "output_type": "stream",
          "name": "stderr",
          "text": [
            "/usr/local/lib/python3.9/dist-packages/torch_geometric/utils/scatter.py:93: UserWarning: The usage of `scatter(reduce='max')` can be accelerated via the 'torch-scatter' package, but it was not found\n",
            "  warnings.warn(f\"The usage of `scatter(reduce='{reduce}')` \"\n"
          ]
        },
        {
          "output_type": "stream",
          "name": "stdout",
          "text": [
            "Training took:  121.28983283042908\n"
          ]
        }
      ]
    },
    {
      "cell_type": "code",
      "source": [
        "model = Top_K_Pooling_Graph_Classifier_Binary(input_dim = PEPTIDES_node_features, hidden_dim = 64, output_dim = 1).to(device)\n",
        "\n",
        "tic = time.time()\n",
        "results_topk_peptides = train_graph_classification_binary(model,train_loader_PEPTIDES, test_loader_PEPTIDES, 100, 0.001)\n",
        "toc = time.time()\n",
        "\n",
        "print('Training took: ', toc-tic)\n"
      ],
      "metadata": {
        "colab": {
          "base_uri": "https://localhost:8080/"
        },
        "id": "tIUmXlHzYEgr",
        "outputId": "cfe8ccc0-8805-4d02-dfa6-5c5e5c5e796b"
      },
      "execution_count": 25,
      "outputs": [
        {
          "output_type": "stream",
          "name": "stderr",
          "text": [
            "/usr/local/lib/python3.9/dist-packages/torch_geometric/utils/scatter.py:93: UserWarning: The usage of `scatter(reduce='max')` can be accelerated via the 'torch-scatter' package, but it was not found\n",
            "  warnings.warn(f\"The usage of `scatter(reduce='{reduce}')` \"\n"
          ]
        },
        {
          "output_type": "stream",
          "name": "stdout",
          "text": [
            "Training took:  182.06895184516907\n"
          ]
        }
      ]
    },
    {
      "cell_type": "markdown",
      "source": [
        "#Graph Group Renormalization"
      ],
      "metadata": {
        "id": "118EL7i8g0vh"
      }
    },
    {
      "cell_type": "code",
      "source": [
        "sum_nodes = 0\n",
        "count = 0\n",
        "for graph in test_dataset:\n",
        "  sum_nodes += graph.x.shape[0]\n",
        "  count +=1\n",
        "print('Average Node count in ENZYMES Test Dataset before coarsening:', sum_nodes/count)\n",
        "\n",
        "sum_nodes = 0\n",
        "count = 0\n",
        "for graph in train_dataset:\n",
        "  sum_nodes += graph.x.shape[0]\n",
        "  count +=1\n",
        "print('Average Node count in ENZYMES Train Dataset before coarsening:', sum_nodes/count)\n",
        "\n",
        "sum_nodes = 0\n",
        "count = 0\n",
        "for graph in test_dataset:\n",
        "  sum_nodes += graph.edge_index.shape[1]\n",
        "  count +=1\n",
        "print('Average Edge count in ENZYMES Test Dataset before coarsening:', sum_nodes/count)\n",
        "\n",
        "sum_nodes = 0\n",
        "count = 0\n",
        "for graph in train_dataset:\n",
        "  sum_nodes += graph.edge_index.shape[1]\n",
        "  count +=1\n",
        "print('Average Edge count in ENZYMES Train Dataset before coarsening:', sum_nodes/count)\n",
        "\n",
        "##\n",
        "sum_nodes = 0\n",
        "count = 0\n",
        "for graph in test_dataset_peptides:\n",
        "  sum_nodes += graph.x.shape[0]\n",
        "  count +=1\n",
        "print('Average Node count in Peptides Test Dataset before coarsening:', sum_nodes/count)\n",
        "\n",
        "sum_nodes = 0\n",
        "count = 0\n",
        "for graph in train_dataset_peptides:\n",
        "  sum_nodes += graph.x.shape[0]\n",
        "  count +=1\n",
        "print('Average Node count in Peptides Train Dataset before coarsening:', sum_nodes/count)\n",
        "\n",
        "sum_nodes = 0\n",
        "count = 0\n",
        "for graph in test_dataset_peptides:\n",
        "  sum_nodes += graph.edge_index.shape[1]\n",
        "  count +=1\n",
        "print('Average edge count in Peptides Test Dataset before coarsening:', sum_nodes/count)\n",
        "\n",
        "sum_nodes = 0\n",
        "count = 0\n",
        "for graph in train_dataset_peptides:\n",
        "  sum_nodes += graph.edge_index.shape[1]\n",
        "  count +=1\n",
        "print('Average edge count in Peptides Train Dataset before coarsening:', sum_nodes/count)"
      ],
      "metadata": {
        "colab": {
          "base_uri": "https://localhost:8080/"
        },
        "id": "dMepKlmFQ7z-",
        "outputId": "6e8b5489-2264-4689-94a5-036b087e6abe"
      },
      "execution_count": 24,
      "outputs": [
        {
          "output_type": "stream",
          "name": "stdout",
          "text": [
            "Average Node count in ENZYMES Test Dataset before coarsening: 31.091666666666665\n",
            "Average Node count in ENZYMES Train Dataset before coarsening: 33.01875\n",
            "Average Edge count in ENZYMES Test Dataset before coarsening: 121.33333333333333\n",
            "Average Edge count in ENZYMES Train Dataset before coarsening: 125.00833333333334\n",
            "Average Node count in Peptides Test Dataset before coarsening: 148.28\n",
            "Average Node count in Peptides Train Dataset before coarsening: 151.67375\n",
            "Average edge count in Peptides Test Dataset before coarsening: 301.84\n",
            "Average edge count in Peptides Train Dataset before coarsening: 308.89375\n"
          ]
        }
      ]
    },
    {
      "cell_type": "code",
      "source": [
        "def aggregate_feats_nx(u_attr, v_attr, aggr_style = 'mean'):\n",
        "  '''\n",
        "  Helper function for node contraction. It supports mean by default\n",
        "  '''\n",
        "  if aggr_style == 'mean':\n",
        "    concat = np.concatenate((u_attr, v_attr), axis=0)\n",
        "    concat = np.reshape(concat, (2, int(len(concat)/2)))\n",
        "    mean = np.mean(concat, axis = 0)\n",
        "    return mean\n",
        "\n",
        "  if aggr_style == 'maxpool':\n",
        "    concat = np.concatenate((u_attr, v_attr), axis=0)\n",
        "    concat = np.reshape(concat, (2, int(len(concat)/2)))\n",
        "    max_pool = np.amax(concat, axis=0)\n",
        "    return max_pool\n",
        "\n",
        "  if aggr_style =='delete':\n",
        "    return u_attr\n",
        "\n",
        "def Laplacian_coarse_graining(G, aggr = 'mean'):\n",
        "  '''\n",
        "  Input: a PyG data Object (a graph)\n",
        "  Output: Coarse-Grained PyG data Object\n",
        "\n",
        "  Content - the function will apply laplacian coarse graining on the graph\n",
        "  '''\n",
        "  y = G.y\n",
        "  #Convert PyG Data Object to NetworkX\n",
        "  nx_graph = to_networkx(G,node_attrs=[\"x\"], to_undirected = True)\n",
        "\n",
        "  #obtain Laplacian\n",
        "  L = nx.laplacian_matrix(nx_graph).todense()\n",
        "  L = np.array(L)\n",
        "  G = nx_graph\n",
        "  # Getting the pseudo-inverse of the Laplacian\n",
        "  C = np.linalg.pinv(L)\n",
        "\n",
        "  \n",
        "  correlated_nodes = []\n",
        "  correlations = []\n",
        "  #Find pair of connected nodes\n",
        "  for i in range(len(C)):\n",
        "    for j in range(i):\n",
        "        correlated_nodes.append([i,j])\n",
        "        correlations.append(C[i,j])\n",
        "    \n",
        "  # Sorting the nodes descending correlation\n",
        "  most_correlated_nodes = []\n",
        "  x = np.array(correlations).argsort()\n",
        "  correlated_nodes_sorted = np.array(correlated_nodes)[x[::-1]]\n",
        "  used_nodes_lst = []\n",
        "  for i in range(len(x)): # Most correlated nodes\n",
        "    corr_pair = [int(j) for j in correlated_nodes_sorted[i]]\n",
        "    no_duplicates = corr_pair not in most_correlated_nodes\n",
        "    both_nodes_unused = all(x not in used_nodes_lst for x in corr_pair)\n",
        "\n",
        "    if both_nodes_unused and no_duplicates:\n",
        "        most_correlated_nodes.append(corr_pair)\n",
        "        used_nodes_lst.extend(corr_pair)\n",
        "\n",
        "\n",
        "  #Re-wire the graph by contracting highly-correlated edges\n",
        "  for pair in most_correlated_nodes:\n",
        "    [u, v] = pair\n",
        "    ### Note - when contracting nodes, an additional attribute will be added called \"contraction\". We need to get rid of it.\n",
        "    u_attributes = G.nodes[u]['x']\n",
        "    v_attributes = G.nodes[v]['x']\n",
        "    G = nx.contracted_nodes(G, u, v)\n",
        "    attributes = {u: {'x': list(aggregate_feats_nx(u_attributes, v_attributes, aggr))}} \n",
        "    nx.set_node_attributes(G, attributes)\n",
        "    del G.nodes[u]['contraction']\n",
        "  #Deleting all edge features created under the process of contraction\n",
        "  for (n1, n2, d) in G.edges(data=True):\n",
        "    d.clear()\n",
        "  \n",
        "  #Converting back to PyG Data Object\n",
        "  try:\n",
        "    to_return = from_networkx(G, group_node_attrs = 'x')\n",
        "    to_return.y = y\n",
        "  except:\n",
        "    print('Could not convert NetworkX object to PyG Data Object')\n",
        "  \n",
        "  return to_return"
      ],
      "metadata": {
        "id": "M__-1h41hpnX"
      },
      "execution_count": 5,
      "outputs": []
    },
    {
      "cell_type": "code",
      "source": [
        "## idea: create a new list of obj\n",
        "##Applying Coarsening on Datasets\n",
        "\n",
        "tic = time.time()\n",
        "\n",
        "train_coarse_dataset = []\n",
        "test_coarse_dataset = []\n",
        "count =0\n",
        "for graph in train_dataset:\n",
        "  train_coarse_dataset.append(Laplacian_coarse_graining(graph))\n",
        "  count +=1\n",
        "\n",
        "for graph in test_dataset:\n",
        "  test_coarse_dataset.append(Laplacian_coarse_graining(graph))\n",
        "  count +=1\n",
        "toc = time.time()\n",
        "print('Time Processing Enzymes - mean: ', toc-tic, ' Seconds')\n",
        "print('Coarsening Enzymes done')\n",
        "\n",
        "tic = time.time()\n",
        "\n",
        "train_coarse_dataset_max = []\n",
        "test_coarse_dataset_max = []\n",
        "count =0\n",
        "for graph in train_dataset:\n",
        "  train_coarse_dataset_max.append(Laplacian_coarse_graining(graph, 'maxpool'))\n",
        "  count +=1\n",
        "\n",
        "for graph in test_dataset:\n",
        "  test_coarse_dataset_max.append(Laplacian_coarse_graining(graph, 'maxpool'))\n",
        "  count +=1\n",
        "toc = time.time()\n",
        "print('Time Processing Enzymes - maxpool: ', toc-tic, ' Seconds')\n",
        "print('Coarsening Enzymes done')\n",
        "\n",
        "\n",
        "\n",
        "tic = time.time()\n",
        "\n",
        "train_coarse_dataset_delete = []\n",
        "test_coarse_dataset_delete = []\n",
        "count =0\n",
        "for graph in train_dataset:\n",
        "  train_coarse_dataset_delete.append(Laplacian_coarse_graining(graph, 'delete'))\n",
        "\n",
        "for graph in test_dataset:\n",
        "  test_coarse_dataset_delete.append(Laplacian_coarse_graining(graph, 'delete'))\n",
        "toc = time.time()\n",
        "print('Time Processing Enzymes - deletion: ', toc-tic, ' Seconds')\n",
        "print('Coarsening Enzymes done')\n",
        "\n",
        "\n",
        "################# PEPTIDES ##################\n",
        "\n",
        "tic = time.time()\n",
        "\n",
        "train_coarse_dataset_peptides = []\n",
        "test_coarse_dataset_peptides = []\n",
        "count =0\n",
        "for graph in train_dataset_peptides:\n",
        "  train_coarse_dataset_peptides.append(Laplacian_coarse_graining(graph))\n",
        "  count +=1\n",
        "\n",
        "for graph in test_dataset_peptides:\n",
        "  test_coarse_dataset_peptides.append(Laplacian_coarse_graining(graph))\n",
        "  count +=1\n",
        "toc = time.time()\n",
        "print('Time Processing Peptides - mean: ', toc-tic, ' Seconds')\n",
        "\n",
        "tic = time.time()\n",
        "\n",
        "train_coarse_dataset_max_peptides = []\n",
        "test_coarse_dataset_max_peptides = []\n",
        "count =0\n",
        "for graph in train_dataset_peptides:\n",
        "  train_coarse_dataset_max_peptides.append(Laplacian_coarse_graining(graph, 'maxpool'))\n",
        "  count +=1\n",
        "  if count % 500 ==0:\n",
        "    print(count)\n",
        "\n",
        "for graph in test_dataset_peptides:\n",
        "  test_coarse_dataset_max_peptides.append(Laplacian_coarse_graining(graph, 'maxpool'))\n",
        "  count +=1\n",
        "toc = time.time()\n",
        "print('Time Processing Peptides - maxpool: ', toc-tic, ' Seconds')\n",
        "\n",
        "\n",
        "\n",
        "tic = time.time()\n",
        "\n",
        "train_coarse_dataset_delete_peptides = []\n",
        "test_coarse_dataset_delete_peptides = []\n",
        "count =0\n",
        "for graph in train_dataset_peptides:\n",
        "  train_coarse_dataset_delete_peptides.append(Laplacian_coarse_graining(graph, 'delete'))\n",
        "  count +=1\n",
        "\n",
        "for graph in test_dataset_peptides:\n",
        "  test_coarse_dataset_delete_peptides.append(Laplacian_coarse_graining(graph, 'delete'))\n",
        "  count +=1\n",
        "toc = time.time()\n",
        "print('Time Processing Peptides - delete: ', toc-tic, ' Seconds')\n",
        "print('Coarsening Peptides done')\n"
      ],
      "metadata": {
        "colab": {
          "base_uri": "https://localhost:8080/"
        },
        "id": "9vHk0mDAEf5B",
        "outputId": "314f5066-6029-4137-ce2f-13fce0f90fe5"
      },
      "execution_count": 8,
      "outputs": [
        {
          "output_type": "stream",
          "name": "stdout",
          "text": [
            "Time Processing Enzymes - mean:  8.739818572998047  Seconds\n",
            "Coarsening Enzymes done\n",
            "Time Processing Enzymes - maxpool:  13.264192342758179  Seconds\n",
            "Coarsening Enzymes done\n",
            "Time Processing Enzymes - deletion:  10.142611742019653  Seconds\n",
            "Coarsening Enzymes done\n",
            "Time Processing Peptides - mean:  489.05284094810486  Seconds\n",
            "500\n",
            "1000\n",
            "1500\n",
            "Time Processing Peptides - maxpool:  462.9696190357208  Seconds\n",
            "Time Processing Peptides - delete:  450.3893325328827  Seconds\n",
            "Coarsening Peptides done\n"
          ]
        }
      ]
    },
    {
      "cell_type": "code",
      "source": [
        "## compute new average graph length!!\n",
        "sum_nodes = 0\n",
        "count = 0\n",
        "for graph in test_coarse_dataset:\n",
        "  sum_nodes += graph.x.shape[0]\n",
        "  count +=1\n",
        "print('Average Node count in ENZYMES Test Dataset before coarsening:', sum_nodes/count)\n",
        "\n",
        "sum_nodes = 0\n",
        "count = 0\n",
        "for graph in train_coarse_dataset:\n",
        "  sum_nodes += graph.x.shape[0]\n",
        "  count +=1\n",
        "print('Average Node count in ENZYMES Train Dataset before coarsening:', sum_nodes/count)\n",
        "\n",
        "\n",
        "sum_nodes = 0\n",
        "count = 0\n",
        "for graph in test_coarse_dataset:\n",
        "  sum_nodes += graph.edge_index.shape[1]\n",
        "  count +=1\n",
        "print('Average Edge count in ENZYMES Test Dataset before coarsening:', sum_nodes/count)\n",
        "\n",
        "sum_nodes = 0\n",
        "count = 0\n",
        "for graph in train_coarse_dataset:\n",
        "  sum_nodes += graph.edge_index.shape[1]\n",
        "  count +=1\n",
        "print('Average Edge count in ENZYMES Train Dataset before coarsening:', sum_nodes/count)\n",
        "\n",
        "\n",
        "##\n",
        "\n",
        "sum_nodes = 0\n",
        "count = 0\n",
        "for graph in test_coarse_dataset_delete_peptides:\n",
        "  sum_nodes += graph.x.shape[0]\n",
        "  count +=1\n",
        "print('Average Node count in Peptides Test Dataset after coarsening:', sum_nodes/count)\n",
        "\n",
        "sum_nodes = 0\n",
        "count = 0\n",
        "for graph in train_coarse_dataset_delete_peptides:\n",
        "  sum_nodes += graph.x.shape[0]\n",
        "  count +=1\n",
        "print('Average Node count in Peptides Train Dataset after coarsening:', sum_nodes/count)\n",
        "\n",
        "\n",
        "sum_nodes = 0\n",
        "count = 0\n",
        "for graph in test_coarse_dataset_peptides:\n",
        "  sum_nodes += graph.edge_index.shape[1]\n",
        "  count +=1\n",
        "print('Average edge count in Peptides Test Dataset after coarsening:', sum_nodes/count)\n",
        "\n",
        "sum_nodes = 0\n",
        "count = 0\n",
        "for graph in train_coarse_dataset_peptides:\n",
        "  sum_nodes += graph.edge_index.shape[1]\n",
        "  count +=1\n",
        "print('Average edge count in Peptides Train Dataset after coarsening:', sum_nodes/count)"
      ],
      "metadata": {
        "colab": {
          "base_uri": "https://localhost:8080/"
        },
        "id": "mdrKmXFQK3d8",
        "outputId": "81daadd1-e930-468f-fd7e-35984d210203"
      },
      "execution_count": 25,
      "outputs": [
        {
          "output_type": "stream",
          "name": "stdout",
          "text": [
            "Average Node count in ENZYMES Test Dataset before coarsening: 15.733333333333333\n",
            "Average Node count in ENZYMES Train Dataset before coarsening: 16.70625\n",
            "Average Edge count in ENZYMES Test Dataset before coarsening: 61.3\n",
            "Average Edge count in ENZYMES Train Dataset before coarsening: 64.6125\n",
            "Average Node count in Peptides Test Dataset after coarsening: 74.3825\n",
            "Average Node count in Peptides Train Dataset after coarsening: 76.074375\n",
            "Average edge count in Peptides Test Dataset after coarsening: 220.05\n",
            "Average edge count in Peptides Train Dataset after coarsening: 225.435625\n"
          ]
        }
      ]
    },
    {
      "cell_type": "code",
      "source": [
        "train_loader = DataLoader(train_coarse_dataset, batch_size=32, shuffle=True)\n",
        "test_loader = DataLoader(test_coarse_dataset, batch_size=32, shuffle=False)\n",
        "\n",
        "model = GraphConvClassifier(input_dim = ENZYMES_node_features, hidden_dim = 64, output_dim = ENZYMES_classes, num_layers = 3).to(device)\n",
        "tic = time.time()\n",
        "result_mean = train_graph_classification(model,train_loader, test_loader, 250, lr = 0.001)\n",
        "toc = time.time()\n",
        "print('training for mean aggregation took', toc-tic)\n",
        "\n",
        "\n",
        "\n",
        "train_loader = DataLoader(train_coarse_dataset_max, batch_size=32, shuffle=True)\n",
        "test_loader = DataLoader(test_coarse_dataset_max, batch_size=32, shuffle=False)\n",
        "tic = time.time()\n",
        "result_maxpool = train_graph_classification(model,train_loader, test_loader, 250, lr = 0.001)\n",
        "toc = time.time()\n",
        "print('training for max-pool aggregation took', toc-tic)\n",
        "\n",
        "\n",
        "train_loader = DataLoader(train_coarse_dataset_delete, batch_size=32, shuffle=True)\n",
        "test_loader = DataLoader(test_coarse_dataset_delete, batch_size=32, shuffle=False)\n",
        "tic = time.time()\n",
        "result_delete = train_graph_classification(model,train_loader, test_loader, 250, lr = 0.001)\n",
        "toc = time.time()\n",
        "print('training for deletion aggregation took', toc-tic)\n"
      ],
      "metadata": {
        "colab": {
          "base_uri": "https://localhost:8080/"
        },
        "id": "HnOr1E_KuaCr",
        "outputId": "d8b5492c-a178-4c24-937f-947fcca4be9a"
      },
      "execution_count": 17,
      "outputs": [
        {
          "output_type": "stream",
          "name": "stdout",
          "text": [
            "training for mean aggregation took 42.442052125930786\n",
            "training for max-pool aggregation took 44.05279064178467\n",
            "training for deletion aggregation took 41.71221899986267\n"
          ]
        }
      ]
    },
    {
      "cell_type": "code",
      "source": [
        "## Peptides:\n",
        "train_loader = DataLoader(train_coarse_dataset_peptides, batch_size=32, shuffle=True)\n",
        "test_loader = DataLoader(test_coarse_dataset_peptides, batch_size=32, shuffle=False)\n",
        "\n",
        "model = GraphConvClassifierBinary(input_dim = PEPTIDES_node_features, hidden_dim = 64, output_dim = 1, num_layers = 3).to(device)\n",
        "tic = time.time()\n",
        "result_mean_peptides = train_graph_classification_binary(model,train_loader, test_loader, 100, lr = 0.001)\n",
        "toc = time.time()\n",
        "print('training for mean aggregation took', toc-tic)\n",
        "\n",
        "\n",
        "\n",
        "train_loader = DataLoader(train_coarse_dataset_max_peptides, batch_size=32, shuffle=True)\n",
        "test_loader = DataLoader(test_coarse_dataset_max_peptides, batch_size=32, shuffle=False)\n",
        "tic = time.time()\n",
        "result_maxpool_peptides = train_graph_classification_binary(model,train_loader, test_loader, 100, lr = 0.001)\n",
        "toc = time.time()\n",
        "print('training for max-pool aggregation took', toc-tic)\n",
        "\n",
        "\n",
        "train_loader = DataLoader(train_coarse_dataset_delete_peptides, batch_size=32, shuffle=True)\n",
        "test_loader = DataLoader(test_coarse_dataset_delete_peptides, batch_size=32, shuffle=False)\n",
        "tic = time.time()\n",
        "result_delete_peptides = train_graph_classification_binary(model,train_loader, test_loader, 100, lr = 0.001)\n",
        "toc = time.time()\n",
        "print('training for deletion aggregation took', toc-tic)\n"
      ],
      "metadata": {
        "colab": {
          "base_uri": "https://localhost:8080/"
        },
        "id": "T6RObDLEbrah",
        "outputId": "63c61f3a-7936-4016-d176-a2142724c87e"
      },
      "execution_count": 23,
      "outputs": [
        {
          "output_type": "stream",
          "name": "stdout",
          "text": [
            "training for mean aggregation took 61.96637415885925\n",
            "training for max-pool aggregation took 60.74643278121948\n",
            "training for deletion aggregation took 60.66118001937866\n"
          ]
        }
      ]
    },
    {
      "cell_type": "markdown",
      "source": [
        "#Plots"
      ],
      "metadata": {
        "id": "iOjrLIAonQkY"
      }
    },
    {
      "cell_type": "code",
      "source": [
        "## Plot 1: Convergence \n",
        "\n",
        "\n",
        "labels = np.arange(1, 251, 1, dtype=int)\n",
        "\n",
        "fig, ax = plt.subplots()\n",
        "\n",
        "\n",
        "ax.plot(labels, results_GCN, color='purple', label='Regular GCN', linestyle='-', linewidth = 2)\n",
        "ax.plot(labels, results_topk, color='blue', label='TopK', linestyle='-')\n",
        "ax.plot(labels, result_maxpool, color='orange', label='Laplacian Coarsening - MaxPool aggregation', linestyle = '-.')\n",
        "ax.plot(labels, result_mean, color='turquoise', label='Laplacian Coarsening - Mean aggregation', linestyle = 'dotted')\n",
        "ax.plot(labels, result_delete, color='green', label='Laplacian Coarsening - deletion aggregation', linestyle = 'dotted')\n",
        "\n",
        "ax.set_xlabel('Epoch')\n",
        "ax.set_ylabel('Average Accuracy')\n",
        "ax.legend()\n",
        "plt.show()\n"
      ],
      "metadata": {
        "colab": {
          "base_uri": "https://localhost:8080/",
          "height": 449
        },
        "id": "048Cwm8lnQxt",
        "outputId": "98710cce-f2c2-4dbd-a87d-d05f8a3c0902"
      },
      "execution_count": 36,
      "outputs": [
        {
          "output_type": "display_data",
          "data": {
            "text/plain": [
              "<Figure size 640x480 with 1 Axes>"
            ],
            "image/png": "[encoded data removed]"
          },
          "metadata": {}
        }
      ]
    },
    {
      "cell_type": "code",
      "source": [
        "## Plot 2: Convergence \n",
        "\n",
        "\n",
        "labels = np.arange(1, 101, 1, dtype=int)\n",
        "\n",
        "fig, ax = plt.subplots()\n",
        "\n",
        "\n",
        "ax.plot(labels, results_GCN_peptides, color='purple', label='Regular GCN', linestyle='-', linewidth = 1)\n",
        "ax.plot(labels, results_topk_peptides, color='blue', label='TopK', linestyle='-.')\n",
        "ax.plot(labels, result_maxpool_peptides, color='orange', label='Laplacian Coarsening - MaxPool aggregation', linestyle = 'dotted')\n",
        "ax.plot(labels, result_mean_peptides, color='turquoise', label='Laplacian Coarsening - Mean aggregation', linestyle = 'dotted')\n",
        "ax.plot(labels, result_delete_peptides, color='green', label='Laplacian Coarsening - Delete aggregation', linestyle = 'dotted')\n",
        "\n",
        "ax.set_xlabel('Epoch')\n",
        "ax.set_ylabel('Average Accuracy')\n",
        "ax.legend()\n",
        "plt.show()"
      ],
      "metadata": {
        "colab": {
          "base_uri": "https://localhost:8080/",
          "height": 449
        },
        "id": "bIaPy7jUcxXk",
        "outputId": "4b2d90ed-4e8f-4f19-a535-782401f7d40c"
      },
      "execution_count": 35,
      "outputs": [
        {
          "output_type": "display_data",
          "data": {
            "text/plain": [
              "<Figure size 640x480 with 1 Axes>"
            ],
            "image/png": "[encoded data removed]"
          },
          "metadata": {}
        }
      ]
    },
    {
      "cell_type": "markdown",
      "source": [
        "# Please disregard the content below"
      ],
      "metadata": {
        "id": "sayl5Pya-PRN"
      }
    },
    {
      "cell_type": "markdown",
      "source": [
        "\n",
        "\n",
        "\n",
        "landeau model Hamiltonian\n",
        "page 458 : https://www.academia.edu/30081175/Huang_Kerson_1987_Statistical_Mechanics_2Ed_Wiley_T_506S_pdf\n"
      ],
      "metadata": {
        "id": "tpAqY1pFVvbm"
      }
    },
    {
      "cell_type": "markdown",
      "source": [
        "#DiffPool\n",
        "Stadard Implementation as per the https://www.youtube.com/watch?v=Uqc3O3-oXxM Tutorial with more details here\n",
        "https://github.com/d-stoll/diffpool. \n",
        "\n",
        "Some adaptations were made to the code"
      ],
      "metadata": {
        "id": "HAu4upRouEBa"
      }
    },
    {
      "cell_type": "code",
      "source": [
        "class GNN(torch.nn.Module):\n",
        "    def __init__(self, in_channels, hidden_channels, out_channels,\n",
        "                 normalize=False, lin=True):\n",
        "        super().__init__()\n",
        "\n",
        "        self.conv1 = DenseSAGEConv(in_channels, hidden_channels, normalize)\n",
        "        self.bn1 = torch.nn.BatchNorm1d(hidden_channels)\n",
        "        self.conv2 = DenseSAGEConv(hidden_channels, hidden_channels, normalize)\n",
        "        self.bn2 = torch.nn.BatchNorm1d(hidden_channels)\n",
        "        self.conv3 = DenseSAGEConv(hidden_channels, out_channels, normalize)\n",
        "        self.bn3 = torch.nn.BatchNorm1d(out_channels)\n",
        "\n",
        "        if lin is True:\n",
        "            self.lin = torch.nn.Linear(2 * hidden_channels + out_channels,\n",
        "                                       out_channels)\n",
        "        else:\n",
        "            self.lin = None\n",
        "\n",
        "    def bn(self, i, x):\n",
        "        print(x.size())\n",
        "        batch_size, num_nodes, num_channels = x.size()\n",
        "\n",
        "        x = x.view(-1, num_channels)\n",
        "        x = getattr(self, f'bn{i}')(x)\n",
        "        x = x.view(batch_size, num_nodes, num_channels)\n",
        "        return x\n",
        "\n",
        "    def forward(self, x, adj, mask=None):\n",
        "         \n",
        "        batch_size, num_nodes, in_channels = x.size()\n",
        "\n",
        "        x0 = x\n",
        "        x1 = self.bn(1, self.conv1(x0, adj, mask).relu())\n",
        "        x2 = self.bn(2, self.conv2(x1, adj, mask).relu())\n",
        "        x3 = self.bn(3, self.conv3(x2, adj, mask).relu())\n",
        "\n",
        "        x = torch.cat([x1, x2, x3], dim=-1)\n",
        "\n",
        "        if self.lin is not None:\n",
        "            x = self.lin(x).relu()\n",
        "\n",
        "        return x\n",
        "\n",
        "\n",
        "class DiffPool_Graph_Classifier(torch.nn.Module):\n",
        "    def __init__(self, input_dim, hidden_dim, output_dim, num_features, dropout = 0.8, max_nodes=100):\n",
        "        super().__init__()\n",
        "        num_nodes = ceil(0.25 * max_nodes)\n",
        "\n",
        "\n",
        "        self.gnn1_pool = GNN(input_dim, 64, num_nodes)\n",
        "        self.gnn1_embed = GNN(num_features, 64, hidden_dim, lin=False)\n",
        "\n",
        "        num_nodes = ceil(0.25 * num_nodes)\n",
        "        self.gnn2_pool = GNN(3 * hidden_dim, 64, num_nodes)\n",
        "        self.gnn2_embed = GNN(3 * hidden_dim, 64, hidden_dim, lin=False)\n",
        "\n",
        "        self.gnn3_embed = GNN(3 * hidden_dim, 64, hidden_dim, lin=False)\n",
        "\n",
        "        self.lin1 = torch.nn.Linear(3 * hidden_dim, hidden_dim)\n",
        "        self.lin2 = torch.nn.Linear(hidden_dim, output_dim)\n",
        "\n",
        "    def forward(self, x, adj, mask=None):\n",
        "        s = self.gnn1_pool(x, adj, mask)\n",
        "        x = self.gnn1_embed(x, adj, mask)\n",
        "\n",
        "        x, adj, l1, e1 = dense_diff_pool(x, adj, s, mask)\n",
        "\n",
        "        s = self.gnn2_pool(x, adj)\n",
        "        x = self.gnn2_embed(x, adj)\n",
        "\n",
        "        x, adj, l2, e2 = dense_diff_pool(x, adj, s)\n",
        "\n",
        "        x = self.gnn3_embed(x, adj)\n",
        "\n",
        "        x = x.mean(dim=1)\n",
        "        x = self.lin1(x).relu()\n",
        "        x = self.lin2(x)\n",
        "        return F.log_softmax(x, dim=-1), l1 + l2, e1 + e2\n",
        "\n",
        "\n"
      ],
      "metadata": {
        "id": "Qp4TxSt0uDQI"
      },
      "execution_count": null,
      "outputs": []
    },
    {
      "cell_type": "code",
      "source": [
        "def train(epoch):\n",
        "    model.train()\n",
        "\n",
        "    loss_all = 0\n",
        "    for data in train_loader:\n",
        "        data = data.to(device)\n",
        "        optimizer.zero_grad()\n",
        "        output = model(data)\n",
        "        loss = F.nll_loss(output, data.y)\n",
        "        loss.backward()\n",
        "        loss_all += data.num_graphs * loss.item()\n",
        "        optimizer.step()\n",
        "    return loss_all / len(train_dataset)\n",
        "\n",
        "\n",
        "model = DiffPool_Graph_Classifier(input_dim = ENZYMES_node_features, hidden_dim = 64, output_dim = ENZYMES_classes, num_features = ENZYMES_node_features)\n",
        "optimizer = torch.optim.Adam(model.parameters(), lr=0.001)\n",
        "\n",
        "\n",
        "train_graph_classification(model,train_loader_ENZYMES_Dense, test_loader_ENZYMES_Dense, 100, 0.015 )\n"
      ],
      "metadata": {
        "colab": {
          "base_uri": "https://localhost:8080/",
          "height": 1000
        },
        "id": "46hbe7wBEOZg",
        "outputId": "693d680e-35ab-4ede-c3ee-cace7e23ae1d"
      },
      "execution_count": null,
      "outputs": [
        {
          "output_type": "error",
          "ename": "AttributeError",
          "evalue": "ignored",
          "traceback": [
            "\u001b[0;31m---------------------------------------------------------------------------\u001b[0m",
            "\u001b[0;31mAttributeError\u001b[0m                            Traceback (most recent call last)",
            "\u001b[0;32m<ipython-input-79-1836133dfa44>\u001b[0m in \u001b[0;36m<cell line: 20>\u001b[0;34m()\u001b[0m\n\u001b[1;32m     18\u001b[0m \u001b[0;34m\u001b[0m\u001b[0m\n\u001b[1;32m     19\u001b[0m \u001b[0;34m\u001b[0m\u001b[0m\n\u001b[0;32m---> 20\u001b[0;31m \u001b[0mtrain_graph_classification\u001b[0m\u001b[0;34m(\u001b[0m\u001b[0mmodel\u001b[0m\u001b[0;34m,\u001b[0m\u001b[0mtrain_loader_ENZYMES_Dense\u001b[0m\u001b[0;34m,\u001b[0m \u001b[0mtest_loader_ENZYMES_Dense\u001b[0m\u001b[0;34m,\u001b[0m \u001b[0;36m100\u001b[0m\u001b[0;34m,\u001b[0m \u001b[0;36m0.015\u001b[0m \u001b[0;34m)\u001b[0m\u001b[0;34m\u001b[0m\u001b[0;34m\u001b[0m\u001b[0m\n\u001b[0m",
            "\u001b[0;32m<ipython-input-30-e1fa81ac0b2e>\u001b[0m in \u001b[0;36mtrain_graph_classification\u001b[0;34m(model, train_loader, test_loader, num_epochs, lr)\u001b[0m\n\u001b[1;32m     20\u001b[0m             \u001b[0;31m# Zero grads -> forward pass -> compute loss -> backprop\u001b[0m\u001b[0;34m\u001b[0m\u001b[0;34m\u001b[0m\u001b[0m\n\u001b[1;32m     21\u001b[0m             \u001b[0moptimizer\u001b[0m\u001b[0;34m.\u001b[0m\u001b[0mzero_grad\u001b[0m\u001b[0;34m(\u001b[0m\u001b[0;34m)\u001b[0m\u001b[0;34m\u001b[0m\u001b[0;34m\u001b[0m\u001b[0m\n\u001b[0;32m---> 22\u001b[0;31m             \u001b[0mouts\u001b[0m \u001b[0;34m=\u001b[0m \u001b[0mmodel\u001b[0m\u001b[0;34m(\u001b[0m\u001b[0mdata\u001b[0m\u001b[0;34m.\u001b[0m\u001b[0mx\u001b[0m\u001b[0;34m.\u001b[0m\u001b[0mfloat\u001b[0m\u001b[0;34m(\u001b[0m\u001b[0;34m)\u001b[0m\u001b[0;34m,\u001b[0m \u001b[0mdata\u001b[0m\u001b[0;34m.\u001b[0m\u001b[0medge_index\u001b[0m\u001b[0;34m,\u001b[0m \u001b[0mdata\u001b[0m\u001b[0;34m.\u001b[0m\u001b[0mbatch\u001b[0m\u001b[0;34m)\u001b[0m\u001b[0;34m.\u001b[0m\u001b[0msqueeze\u001b[0m\u001b[0;34m(\u001b[0m\u001b[0;34m)\u001b[0m\u001b[0;34m\u001b[0m\u001b[0;34m\u001b[0m\u001b[0m\n\u001b[0m\u001b[1;32m     23\u001b[0m             \u001b[0;31m#loss = loss_fn(outs, torch.from_numpy(one_hot_encoder(data.y,6,data.y.shape[0])))\u001b[0m\u001b[0;34m\u001b[0m\u001b[0;34m\u001b[0m\u001b[0m\n\u001b[1;32m     24\u001b[0m             \u001b[0mloss\u001b[0m \u001b[0;34m=\u001b[0m \u001b[0mloss_fn\u001b[0m\u001b[0;34m(\u001b[0m\u001b[0mouts\u001b[0m\u001b[0;34m,\u001b[0m \u001b[0mdata\u001b[0m\u001b[0;34m.\u001b[0m\u001b[0my\u001b[0m\u001b[0;34m)\u001b[0m\u001b[0;34m\u001b[0m\u001b[0;34m\u001b[0m\u001b[0m\n",
            "\u001b[0;32m/usr/local/lib/python3.9/dist-packages/torch/nn/modules/module.py\u001b[0m in \u001b[0;36m_call_impl\u001b[0;34m(self, *args, **kwargs)\u001b[0m\n\u001b[1;32m   1499\u001b[0m                 \u001b[0;32mor\u001b[0m \u001b[0m_global_backward_pre_hooks\u001b[0m \u001b[0;32mor\u001b[0m \u001b[0m_global_backward_hooks\u001b[0m\u001b[0;34m\u001b[0m\u001b[0;34m\u001b[0m\u001b[0m\n\u001b[1;32m   1500\u001b[0m                 or _global_forward_hooks or _global_forward_pre_hooks):\n\u001b[0;32m-> 1501\u001b[0;31m             \u001b[0;32mreturn\u001b[0m \u001b[0mforward_call\u001b[0m\u001b[0;34m(\u001b[0m\u001b[0;34m*\u001b[0m\u001b[0margs\u001b[0m\u001b[0;34m,\u001b[0m \u001b[0;34m**\u001b[0m\u001b[0mkwargs\u001b[0m\u001b[0;34m)\u001b[0m\u001b[0;34m\u001b[0m\u001b[0;34m\u001b[0m\u001b[0m\n\u001b[0m\u001b[1;32m   1502\u001b[0m         \u001b[0;31m# Do not call functions when jit is used\u001b[0m\u001b[0;34m\u001b[0m\u001b[0;34m\u001b[0m\u001b[0m\n\u001b[1;32m   1503\u001b[0m         \u001b[0mfull_backward_hooks\u001b[0m\u001b[0;34m,\u001b[0m \u001b[0mnon_full_backward_hooks\u001b[0m \u001b[0;34m=\u001b[0m \u001b[0;34m[\u001b[0m\u001b[0;34m]\u001b[0m\u001b[0;34m,\u001b[0m \u001b[0;34m[\u001b[0m\u001b[0;34m]\u001b[0m\u001b[0;34m\u001b[0m\u001b[0;34m\u001b[0m\u001b[0m\n",
            "\u001b[0;32m<ipython-input-78-65f7d781e611>\u001b[0m in \u001b[0;36mforward\u001b[0;34m(self, x, adj, mask)\u001b[0m\n\u001b[1;32m     62\u001b[0m \u001b[0;34m\u001b[0m\u001b[0m\n\u001b[1;32m     63\u001b[0m     \u001b[0;32mdef\u001b[0m \u001b[0mforward\u001b[0m\u001b[0;34m(\u001b[0m\u001b[0mself\u001b[0m\u001b[0;34m,\u001b[0m \u001b[0mx\u001b[0m\u001b[0;34m,\u001b[0m \u001b[0madj\u001b[0m\u001b[0;34m,\u001b[0m \u001b[0mmask\u001b[0m\u001b[0;34m=\u001b[0m\u001b[0;32mNone\u001b[0m\u001b[0;34m)\u001b[0m\u001b[0;34m:\u001b[0m\u001b[0;34m\u001b[0m\u001b[0;34m\u001b[0m\u001b[0m\n\u001b[0;32m---> 64\u001b[0;31m         \u001b[0ms\u001b[0m \u001b[0;34m=\u001b[0m \u001b[0mself\u001b[0m\u001b[0;34m.\u001b[0m\u001b[0mgnn1_pool\u001b[0m\u001b[0;34m(\u001b[0m\u001b[0mx\u001b[0m\u001b[0;34m,\u001b[0m \u001b[0madj\u001b[0m\u001b[0;34m,\u001b[0m \u001b[0mmask\u001b[0m\u001b[0;34m)\u001b[0m\u001b[0;34m\u001b[0m\u001b[0;34m\u001b[0m\u001b[0m\n\u001b[0m\u001b[1;32m     65\u001b[0m         \u001b[0mx\u001b[0m \u001b[0;34m=\u001b[0m \u001b[0mself\u001b[0m\u001b[0;34m.\u001b[0m\u001b[0mgnn1_embed\u001b[0m\u001b[0;34m(\u001b[0m\u001b[0mx\u001b[0m\u001b[0;34m,\u001b[0m \u001b[0madj\u001b[0m\u001b[0;34m,\u001b[0m \u001b[0mmask\u001b[0m\u001b[0;34m)\u001b[0m\u001b[0;34m\u001b[0m\u001b[0;34m\u001b[0m\u001b[0m\n\u001b[1;32m     66\u001b[0m \u001b[0;34m\u001b[0m\u001b[0m\n",
            "\u001b[0;32m/usr/local/lib/python3.9/dist-packages/torch/nn/modules/module.py\u001b[0m in \u001b[0;36m_call_impl\u001b[0;34m(self, *args, **kwargs)\u001b[0m\n\u001b[1;32m   1499\u001b[0m                 \u001b[0;32mor\u001b[0m \u001b[0m_global_backward_pre_hooks\u001b[0m \u001b[0;32mor\u001b[0m \u001b[0m_global_backward_hooks\u001b[0m\u001b[0;34m\u001b[0m\u001b[0;34m\u001b[0m\u001b[0m\n\u001b[1;32m   1500\u001b[0m                 or _global_forward_hooks or _global_forward_pre_hooks):\n\u001b[0;32m-> 1501\u001b[0;31m             \u001b[0;32mreturn\u001b[0m \u001b[0mforward_call\u001b[0m\u001b[0;34m(\u001b[0m\u001b[0;34m*\u001b[0m\u001b[0margs\u001b[0m\u001b[0;34m,\u001b[0m \u001b[0;34m**\u001b[0m\u001b[0mkwargs\u001b[0m\u001b[0;34m)\u001b[0m\u001b[0;34m\u001b[0m\u001b[0;34m\u001b[0m\u001b[0m\n\u001b[0m\u001b[1;32m   1502\u001b[0m         \u001b[0;31m# Do not call functions when jit is used\u001b[0m\u001b[0;34m\u001b[0m\u001b[0;34m\u001b[0m\u001b[0m\n\u001b[1;32m   1503\u001b[0m         \u001b[0mfull_backward_hooks\u001b[0m\u001b[0;34m,\u001b[0m \u001b[0mnon_full_backward_hooks\u001b[0m \u001b[0;34m=\u001b[0m \u001b[0;34m[\u001b[0m\u001b[0;34m]\u001b[0m\u001b[0;34m,\u001b[0m \u001b[0;34m[\u001b[0m\u001b[0;34m]\u001b[0m\u001b[0;34m\u001b[0m\u001b[0;34m\u001b[0m\u001b[0m\n",
            "\u001b[0;32m<ipython-input-78-65f7d781e611>\u001b[0m in \u001b[0;36mforward\u001b[0;34m(self, x, adj, mask)\u001b[0m\n\u001b[1;32m     31\u001b[0m \u001b[0;34m\u001b[0m\u001b[0m\n\u001b[1;32m     32\u001b[0m         \u001b[0mx0\u001b[0m \u001b[0;34m=\u001b[0m \u001b[0mx\u001b[0m\u001b[0;34m\u001b[0m\u001b[0;34m\u001b[0m\u001b[0m\n\u001b[0;32m---> 33\u001b[0;31m         \u001b[0mx1\u001b[0m \u001b[0;34m=\u001b[0m \u001b[0mself\u001b[0m\u001b[0;34m.\u001b[0m\u001b[0mbn\u001b[0m\u001b[0;34m(\u001b[0m\u001b[0;36m1\u001b[0m\u001b[0;34m,\u001b[0m \u001b[0mself\u001b[0m\u001b[0;34m.\u001b[0m\u001b[0mconv1\u001b[0m\u001b[0;34m(\u001b[0m\u001b[0mx0\u001b[0m\u001b[0;34m,\u001b[0m \u001b[0madj\u001b[0m\u001b[0;34m,\u001b[0m \u001b[0mmask\u001b[0m\u001b[0;34m)\u001b[0m\u001b[0;34m.\u001b[0m\u001b[0mrelu\u001b[0m\u001b[0;34m(\u001b[0m\u001b[0;34m)\u001b[0m\u001b[0;34m)\u001b[0m\u001b[0;34m\u001b[0m\u001b[0;34m\u001b[0m\u001b[0m\n\u001b[0m\u001b[1;32m     34\u001b[0m         \u001b[0mx2\u001b[0m \u001b[0;34m=\u001b[0m \u001b[0mself\u001b[0m\u001b[0;34m.\u001b[0m\u001b[0mbn\u001b[0m\u001b[0;34m(\u001b[0m\u001b[0;36m2\u001b[0m\u001b[0;34m,\u001b[0m \u001b[0mself\u001b[0m\u001b[0;34m.\u001b[0m\u001b[0mconv2\u001b[0m\u001b[0;34m(\u001b[0m\u001b[0mx1\u001b[0m\u001b[0;34m,\u001b[0m \u001b[0madj\u001b[0m\u001b[0;34m,\u001b[0m \u001b[0mmask\u001b[0m\u001b[0;34m)\u001b[0m\u001b[0;34m.\u001b[0m\u001b[0mrelu\u001b[0m\u001b[0;34m(\u001b[0m\u001b[0;34m)\u001b[0m\u001b[0;34m)\u001b[0m\u001b[0;34m\u001b[0m\u001b[0;34m\u001b[0m\u001b[0m\n\u001b[1;32m     35\u001b[0m         \u001b[0mx3\u001b[0m \u001b[0;34m=\u001b[0m \u001b[0mself\u001b[0m\u001b[0;34m.\u001b[0m\u001b[0mbn\u001b[0m\u001b[0;34m(\u001b[0m\u001b[0;36m3\u001b[0m\u001b[0;34m,\u001b[0m \u001b[0mself\u001b[0m\u001b[0;34m.\u001b[0m\u001b[0mconv3\u001b[0m\u001b[0;34m(\u001b[0m\u001b[0mx2\u001b[0m\u001b[0;34m,\u001b[0m \u001b[0madj\u001b[0m\u001b[0;34m,\u001b[0m \u001b[0mmask\u001b[0m\u001b[0;34m)\u001b[0m\u001b[0;34m.\u001b[0m\u001b[0mrelu\u001b[0m\u001b[0;34m(\u001b[0m\u001b[0;34m)\u001b[0m\u001b[0;34m)\u001b[0m\u001b[0;34m\u001b[0m\u001b[0;34m\u001b[0m\u001b[0m\n",
            "\u001b[0;32m/usr/local/lib/python3.9/dist-packages/torch/nn/modules/module.py\u001b[0m in \u001b[0;36m_call_impl\u001b[0;34m(self, *args, **kwargs)\u001b[0m\n\u001b[1;32m   1499\u001b[0m                 \u001b[0;32mor\u001b[0m \u001b[0m_global_backward_pre_hooks\u001b[0m \u001b[0;32mor\u001b[0m \u001b[0m_global_backward_hooks\u001b[0m\u001b[0;34m\u001b[0m\u001b[0;34m\u001b[0m\u001b[0m\n\u001b[1;32m   1500\u001b[0m                 or _global_forward_hooks or _global_forward_pre_hooks):\n\u001b[0;32m-> 1501\u001b[0;31m             \u001b[0;32mreturn\u001b[0m \u001b[0mforward_call\u001b[0m\u001b[0;34m(\u001b[0m\u001b[0;34m*\u001b[0m\u001b[0margs\u001b[0m\u001b[0;34m,\u001b[0m \u001b[0;34m**\u001b[0m\u001b[0mkwargs\u001b[0m\u001b[0;34m)\u001b[0m\u001b[0;34m\u001b[0m\u001b[0;34m\u001b[0m\u001b[0m\n\u001b[0m\u001b[1;32m   1502\u001b[0m         \u001b[0;31m# Do not call functions when jit is used\u001b[0m\u001b[0;34m\u001b[0m\u001b[0;34m\u001b[0m\u001b[0m\n\u001b[1;32m   1503\u001b[0m         \u001b[0mfull_backward_hooks\u001b[0m\u001b[0;34m,\u001b[0m \u001b[0mnon_full_backward_hooks\u001b[0m \u001b[0;34m=\u001b[0m \u001b[0;34m[\u001b[0m\u001b[0;34m]\u001b[0m\u001b[0;34m,\u001b[0m \u001b[0;34m[\u001b[0m\u001b[0;34m]\u001b[0m\u001b[0;34m\u001b[0m\u001b[0;34m\u001b[0m\u001b[0m\n",
            "\u001b[0;32m/usr/local/lib/python3.9/dist-packages/torch_geometric/nn/dense/dense_sage_conv.py\u001b[0m in \u001b[0;36mforward\u001b[0;34m(self, x, adj, mask)\u001b[0m\n\u001b[1;32m     57\u001b[0m         \"\"\"\n\u001b[1;32m     58\u001b[0m         \u001b[0mx\u001b[0m \u001b[0;34m=\u001b[0m \u001b[0mx\u001b[0m\u001b[0;34m.\u001b[0m\u001b[0munsqueeze\u001b[0m\u001b[0;34m(\u001b[0m\u001b[0;36m0\u001b[0m\u001b[0;34m)\u001b[0m \u001b[0;32mif\u001b[0m \u001b[0mx\u001b[0m\u001b[0;34m.\u001b[0m\u001b[0mdim\u001b[0m\u001b[0;34m(\u001b[0m\u001b[0;34m)\u001b[0m \u001b[0;34m==\u001b[0m \u001b[0;36m2\u001b[0m \u001b[0;32melse\u001b[0m \u001b[0mx\u001b[0m\u001b[0;34m\u001b[0m\u001b[0;34m\u001b[0m\u001b[0m\n\u001b[0;32m---> 59\u001b[0;31m         \u001b[0madj\u001b[0m \u001b[0;34m=\u001b[0m \u001b[0madj\u001b[0m\u001b[0;34m.\u001b[0m\u001b[0munsqueeze\u001b[0m\u001b[0;34m(\u001b[0m\u001b[0;36m0\u001b[0m\u001b[0;34m)\u001b[0m \u001b[0;32mif\u001b[0m \u001b[0madj\u001b[0m\u001b[0;34m.\u001b[0m\u001b[0mdim\u001b[0m\u001b[0;34m(\u001b[0m\u001b[0;34m)\u001b[0m \u001b[0;34m==\u001b[0m \u001b[0;36m2\u001b[0m \u001b[0;32melse\u001b[0m \u001b[0madj\u001b[0m\u001b[0;34m\u001b[0m\u001b[0;34m\u001b[0m\u001b[0m\n\u001b[0m\u001b[1;32m     60\u001b[0m         \u001b[0mB\u001b[0m\u001b[0;34m,\u001b[0m \u001b[0mN\u001b[0m\u001b[0;34m,\u001b[0m \u001b[0m_\u001b[0m \u001b[0;34m=\u001b[0m \u001b[0madj\u001b[0m\u001b[0;34m.\u001b[0m\u001b[0msize\u001b[0m\u001b[0;34m(\u001b[0m\u001b[0;34m)\u001b[0m\u001b[0;34m\u001b[0m\u001b[0;34m\u001b[0m\u001b[0m\n\u001b[1;32m     61\u001b[0m \u001b[0;34m\u001b[0m\u001b[0m\n",
            "\u001b[0;31mAttributeError\u001b[0m: 'NoneType' object has no attribute 'dim'"
          ]
        }
      ]
    },
    {
      "cell_type": "code",
      "source": [
        "\n",
        "test = DiffPool(ENZYMES_node_features, ENZYMES_classes)\n",
        "\n",
        "print(train_dataset[0])\n",
        "\n",
        "test(train_dataset[0].x, train_dataset[0].edge_index)\n",
        "\n"
      ],
      "metadata": {
        "colab": {
          "base_uri": "https://localhost:8080/",
          "height": 408
        },
        "id": "Beu1Yuhcxo8H",
        "outputId": "e9610170-a151-4831-d3f8-099f79f596fd"
      },
      "execution_count": null,
      "outputs": [
        {
          "output_type": "stream",
          "name": "stdout",
          "text": [
            "Data(edge_index=[2, 84], x=[21, 3], y=[1])\n"
          ]
        },
        {
          "output_type": "error",
          "ename": "ValueError",
          "evalue": "ignored",
          "traceback": [
            "\u001b[0;31m---------------------------------------------------------------------------\u001b[0m",
            "\u001b[0;31mValueError\u001b[0m                                Traceback (most recent call last)",
            "\u001b[0;32m<ipython-input-27-232c49ae940b>\u001b[0m in \u001b[0;36m<cell line: 5>\u001b[0;34m()\u001b[0m\n\u001b[1;32m      3\u001b[0m \u001b[0mprint\u001b[0m\u001b[0;34m(\u001b[0m\u001b[0mtrain_dataset\u001b[0m\u001b[0;34m[\u001b[0m\u001b[0;36m0\u001b[0m\u001b[0;34m]\u001b[0m\u001b[0;34m)\u001b[0m\u001b[0;34m\u001b[0m\u001b[0;34m\u001b[0m\u001b[0m\n\u001b[1;32m      4\u001b[0m \u001b[0;34m\u001b[0m\u001b[0m\n\u001b[0;32m----> 5\u001b[0;31m \u001b[0mtest\u001b[0m\u001b[0;34m(\u001b[0m\u001b[0mtrain_dataset\u001b[0m\u001b[0;34m[\u001b[0m\u001b[0;36m0\u001b[0m\u001b[0;34m]\u001b[0m\u001b[0;34m.\u001b[0m\u001b[0mx\u001b[0m\u001b[0;34m,\u001b[0m \u001b[0mtrain_dataset\u001b[0m\u001b[0;34m[\u001b[0m\u001b[0;36m0\u001b[0m\u001b[0;34m]\u001b[0m\u001b[0;34m.\u001b[0m\u001b[0medge_index\u001b[0m\u001b[0;34m)\u001b[0m\u001b[0;34m\u001b[0m\u001b[0;34m\u001b[0m\u001b[0m\n\u001b[0m\u001b[1;32m      6\u001b[0m \u001b[0;34m\u001b[0m\u001b[0m\n\u001b[1;32m      7\u001b[0m \u001b[0;34m\u001b[0m\u001b[0m\n",
            "\u001b[0;32m/usr/local/lib/python3.9/dist-packages/torch/nn/modules/module.py\u001b[0m in \u001b[0;36m_call_impl\u001b[0;34m(self, *args, **kwargs)\u001b[0m\n\u001b[1;32m   1499\u001b[0m                 \u001b[0;32mor\u001b[0m \u001b[0m_global_backward_pre_hooks\u001b[0m \u001b[0;32mor\u001b[0m \u001b[0m_global_backward_hooks\u001b[0m\u001b[0;34m\u001b[0m\u001b[0;34m\u001b[0m\u001b[0m\n\u001b[1;32m   1500\u001b[0m                 or _global_forward_hooks or _global_forward_pre_hooks):\n\u001b[0;32m-> 1501\u001b[0;31m             \u001b[0;32mreturn\u001b[0m \u001b[0mforward_call\u001b[0m\u001b[0;34m(\u001b[0m\u001b[0;34m*\u001b[0m\u001b[0margs\u001b[0m\u001b[0;34m,\u001b[0m \u001b[0;34m**\u001b[0m\u001b[0mkwargs\u001b[0m\u001b[0;34m)\u001b[0m\u001b[0;34m\u001b[0m\u001b[0;34m\u001b[0m\u001b[0m\n\u001b[0m\u001b[1;32m   1502\u001b[0m         \u001b[0;31m# Do not call functions when jit is used\u001b[0m\u001b[0;34m\u001b[0m\u001b[0;34m\u001b[0m\u001b[0m\n\u001b[1;32m   1503\u001b[0m         \u001b[0mfull_backward_hooks\u001b[0m\u001b[0;34m,\u001b[0m \u001b[0mnon_full_backward_hooks\u001b[0m \u001b[0;34m=\u001b[0m \u001b[0;34m[\u001b[0m\u001b[0;34m]\u001b[0m\u001b[0;34m,\u001b[0m \u001b[0;34m[\u001b[0m\u001b[0;34m]\u001b[0m\u001b[0;34m\u001b[0m\u001b[0;34m\u001b[0m\u001b[0m\n",
            "\u001b[0;32m<ipython-input-26-7c3319818489>\u001b[0m in \u001b[0;36mforward\u001b[0;34m(self, x, adj, mask)\u001b[0m\n\u001b[1;32m     57\u001b[0m \u001b[0;34m\u001b[0m\u001b[0m\n\u001b[1;32m     58\u001b[0m     \u001b[0;32mdef\u001b[0m \u001b[0mforward\u001b[0m\u001b[0;34m(\u001b[0m\u001b[0mself\u001b[0m\u001b[0;34m,\u001b[0m \u001b[0mx\u001b[0m\u001b[0;34m,\u001b[0m \u001b[0madj\u001b[0m\u001b[0;34m,\u001b[0m \u001b[0mmask\u001b[0m\u001b[0;34m=\u001b[0m\u001b[0;32mNone\u001b[0m\u001b[0;34m)\u001b[0m\u001b[0;34m:\u001b[0m\u001b[0;34m\u001b[0m\u001b[0;34m\u001b[0m\u001b[0m\n\u001b[0;32m---> 59\u001b[0;31m         \u001b[0ms\u001b[0m \u001b[0;34m=\u001b[0m \u001b[0mself\u001b[0m\u001b[0;34m.\u001b[0m\u001b[0mgnn1_pool\u001b[0m\u001b[0;34m(\u001b[0m\u001b[0mx\u001b[0m\u001b[0;34m,\u001b[0m \u001b[0madj\u001b[0m\u001b[0;34m,\u001b[0m \u001b[0mmask\u001b[0m\u001b[0;34m)\u001b[0m\u001b[0;34m\u001b[0m\u001b[0;34m\u001b[0m\u001b[0m\n\u001b[0m\u001b[1;32m     60\u001b[0m         \u001b[0mx\u001b[0m \u001b[0;34m=\u001b[0m \u001b[0mself\u001b[0m\u001b[0;34m.\u001b[0m\u001b[0mgnn1_embed\u001b[0m\u001b[0;34m(\u001b[0m\u001b[0mx\u001b[0m\u001b[0;34m,\u001b[0m \u001b[0madj\u001b[0m\u001b[0;34m,\u001b[0m \u001b[0mmask\u001b[0m\u001b[0;34m)\u001b[0m\u001b[0;34m\u001b[0m\u001b[0;34m\u001b[0m\u001b[0m\n\u001b[1;32m     61\u001b[0m \u001b[0;34m\u001b[0m\u001b[0m\n",
            "\u001b[0;32m/usr/local/lib/python3.9/dist-packages/torch/nn/modules/module.py\u001b[0m in \u001b[0;36m_call_impl\u001b[0;34m(self, *args, **kwargs)\u001b[0m\n\u001b[1;32m   1499\u001b[0m                 \u001b[0;32mor\u001b[0m \u001b[0m_global_backward_pre_hooks\u001b[0m \u001b[0;32mor\u001b[0m \u001b[0m_global_backward_hooks\u001b[0m\u001b[0;34m\u001b[0m\u001b[0;34m\u001b[0m\u001b[0m\n\u001b[1;32m   1500\u001b[0m                 or _global_forward_hooks or _global_forward_pre_hooks):\n\u001b[0;32m-> 1501\u001b[0;31m             \u001b[0;32mreturn\u001b[0m \u001b[0mforward_call\u001b[0m\u001b[0;34m(\u001b[0m\u001b[0;34m*\u001b[0m\u001b[0margs\u001b[0m\u001b[0;34m,\u001b[0m \u001b[0;34m**\u001b[0m\u001b[0mkwargs\u001b[0m\u001b[0;34m)\u001b[0m\u001b[0;34m\u001b[0m\u001b[0;34m\u001b[0m\u001b[0m\n\u001b[0m\u001b[1;32m   1502\u001b[0m         \u001b[0;31m# Do not call functions when jit is used\u001b[0m\u001b[0;34m\u001b[0m\u001b[0;34m\u001b[0m\u001b[0m\n\u001b[1;32m   1503\u001b[0m         \u001b[0mfull_backward_hooks\u001b[0m\u001b[0;34m,\u001b[0m \u001b[0mnon_full_backward_hooks\u001b[0m \u001b[0;34m=\u001b[0m \u001b[0;34m[\u001b[0m\u001b[0;34m]\u001b[0m\u001b[0;34m,\u001b[0m \u001b[0;34m[\u001b[0m\u001b[0;34m]\u001b[0m\u001b[0;34m\u001b[0m\u001b[0;34m\u001b[0m\u001b[0m\n",
            "\u001b[0;32m<ipython-input-26-7c3319818489>\u001b[0m in \u001b[0;36mforward\u001b[0;34m(self, x, adj, mask)\u001b[0m\n\u001b[1;32m     28\u001b[0m         \u001b[0mx0\u001b[0m \u001b[0;34m=\u001b[0m \u001b[0mx\u001b[0m\u001b[0;34m\u001b[0m\u001b[0;34m\u001b[0m\u001b[0m\n\u001b[1;32m     29\u001b[0m         \u001b[0mx1\u001b[0m \u001b[0;34m=\u001b[0m \u001b[0mself\u001b[0m\u001b[0;34m.\u001b[0m\u001b[0mbn\u001b[0m\u001b[0;34m(\u001b[0m\u001b[0;36m1\u001b[0m\u001b[0;34m,\u001b[0m \u001b[0mself\u001b[0m\u001b[0;34m.\u001b[0m\u001b[0mconv1\u001b[0m\u001b[0;34m(\u001b[0m\u001b[0mx0\u001b[0m\u001b[0;34m,\u001b[0m \u001b[0madj\u001b[0m\u001b[0;34m)\u001b[0m\u001b[0;34m.\u001b[0m\u001b[0mrelu\u001b[0m\u001b[0;34m(\u001b[0m\u001b[0;34m)\u001b[0m\u001b[0;34m)\u001b[0m\u001b[0;34m\u001b[0m\u001b[0;34m\u001b[0m\u001b[0m\n\u001b[0;32m---> 30\u001b[0;31m         \u001b[0mx2\u001b[0m \u001b[0;34m=\u001b[0m \u001b[0mself\u001b[0m\u001b[0;34m.\u001b[0m\u001b[0mbn\u001b[0m\u001b[0;34m(\u001b[0m\u001b[0;36m2\u001b[0m\u001b[0;34m,\u001b[0m \u001b[0mself\u001b[0m\u001b[0;34m.\u001b[0m\u001b[0mconv2\u001b[0m\u001b[0;34m(\u001b[0m\u001b[0mx1\u001b[0m\u001b[0;34m,\u001b[0m \u001b[0madj\u001b[0m\u001b[0;34m)\u001b[0m\u001b[0;34m.\u001b[0m\u001b[0mrelu\u001b[0m\u001b[0;34m(\u001b[0m\u001b[0;34m)\u001b[0m\u001b[0;34m)\u001b[0m\u001b[0;34m\u001b[0m\u001b[0;34m\u001b[0m\u001b[0m\n\u001b[0m\u001b[1;32m     31\u001b[0m         \u001b[0mx3\u001b[0m \u001b[0;34m=\u001b[0m \u001b[0mself\u001b[0m\u001b[0;34m.\u001b[0m\u001b[0mbn\u001b[0m\u001b[0;34m(\u001b[0m\u001b[0;36m3\u001b[0m\u001b[0;34m,\u001b[0m \u001b[0mself\u001b[0m\u001b[0;34m.\u001b[0m\u001b[0mconv3\u001b[0m\u001b[0;34m(\u001b[0m\u001b[0mx2\u001b[0m\u001b[0;34m,\u001b[0m \u001b[0madj\u001b[0m\u001b[0;34m)\u001b[0m\u001b[0;34m.\u001b[0m\u001b[0mrelu\u001b[0m\u001b[0;34m(\u001b[0m\u001b[0;34m)\u001b[0m\u001b[0;34m)\u001b[0m\u001b[0;34m\u001b[0m\u001b[0;34m\u001b[0m\u001b[0m\n\u001b[1;32m     32\u001b[0m \u001b[0;34m\u001b[0m\u001b[0m\n",
            "\u001b[0;32m<ipython-input-26-7c3319818489>\u001b[0m in \u001b[0;36mbn\u001b[0;34m(self, i, x)\u001b[0m\n\u001b[1;32m     18\u001b[0m \u001b[0;34m\u001b[0m\u001b[0m\n\u001b[1;32m     19\u001b[0m     \u001b[0;32mdef\u001b[0m \u001b[0mbn\u001b[0m\u001b[0;34m(\u001b[0m\u001b[0mself\u001b[0m\u001b[0;34m,\u001b[0m \u001b[0mi\u001b[0m\u001b[0;34m,\u001b[0m \u001b[0mx\u001b[0m\u001b[0;34m)\u001b[0m\u001b[0;34m:\u001b[0m\u001b[0;34m\u001b[0m\u001b[0;34m\u001b[0m\u001b[0m\n\u001b[0;32m---> 20\u001b[0;31m         \u001b[0mnum_nodes\u001b[0m\u001b[0;34m,\u001b[0m \u001b[0mnum_channels\u001b[0m \u001b[0;34m=\u001b[0m \u001b[0mx\u001b[0m\u001b[0;34m.\u001b[0m\u001b[0msize\u001b[0m\u001b[0;34m(\u001b[0m\u001b[0;34m)\u001b[0m\u001b[0;34m\u001b[0m\u001b[0;34m\u001b[0m\u001b[0m\n\u001b[0m\u001b[1;32m     21\u001b[0m         \u001b[0mbatch_size\u001b[0m \u001b[0;34m=\u001b[0m \u001b[0;36m1\u001b[0m\u001b[0;34m\u001b[0m\u001b[0;34m\u001b[0m\u001b[0m\n\u001b[1;32m     22\u001b[0m         \u001b[0mx\u001b[0m \u001b[0;34m=\u001b[0m \u001b[0mx\u001b[0m\u001b[0;34m.\u001b[0m\u001b[0mview\u001b[0m\u001b[0;34m(\u001b[0m\u001b[0;34m-\u001b[0m\u001b[0;36m1\u001b[0m\u001b[0;34m,\u001b[0m \u001b[0mnum_channels\u001b[0m\u001b[0;34m)\u001b[0m\u001b[0;34m\u001b[0m\u001b[0;34m\u001b[0m\u001b[0m\n",
            "\u001b[0;31mValueError\u001b[0m: too many values to unpack (expected 2)"
          ]
        }
      ]
    },
    {
      "cell_type": "markdown",
      "source": [
        "#GraphSAINT\n",
        "\n",
        "Disregard"
      ],
      "metadata": {
        "id": "7aSSU-4f3buj"
      }
    },
    {
      "cell_type": "code",
      "source": [
        "loader = GraphSAINTRandomWalkSampler(dataset[0], batch_size=600, walk_length=2,\n",
        "                                     num_steps=5, sample_coverage=100,\n",
        "                                     save_dir=dataset.processed_dir,\n",
        "                                     num_workers=4)\n",
        "\n"
      ],
      "metadata": {
        "colab": {
          "base_uri": "https://localhost:8080/"
        },
        "id": "vhqgs3tY1Nko",
        "outputId": "e03b57fc-73b1-4534-ec82-10e65798afef"
      },
      "execution_count": null,
      "outputs": [
        {
          "output_type": "stream",
          "name": "stderr",
          "text": [
            "/usr/local/lib/python3.9/dist-packages/torch/utils/data/dataloader.py:561: UserWarning: This DataLoader will create 4 worker processes in total. Our suggested max number of worker in current system is 2, which is smaller than what this DataLoader is going to create. Please be aware that excessive worker creation might get DataLoader running slow or even freeze, lower the worker number to avoid potential slowness/freeze if necessary.\n",
            "  warnings.warn(_create_warning_msg(\n",
            "Compute GraphSAINT normalization: 100%|██████████| 3700/3700 [00:03<00:00, 1016.79it/s]\n"
          ]
        }
      ]
    },
    {
      "cell_type": "code",
      "source": [
        "## Delete??\n",
        "\n",
        "device = torch.device('cuda' if torch.cuda.is_available() else 'cpu')\n",
        "model = Net(hidden_channels=256).to(device)\n",
        "optimizer = torch.optim.Adam(model.parameters(), lr=0.001)\n",
        "\n",
        "\n",
        "def train():\n",
        "    model.train()\n",
        "    model.set_aggr('add' if args.use_normalization else 'mean')\n",
        "\n",
        "    total_loss = total_examples = 0\n",
        "    for data in loader:\n",
        "        data = data.to(device)\n",
        "        optimizer.zero_grad()\n",
        "\n",
        "        if args.use_normalization:\n",
        "            edge_weight = data.edge_norm * data.edge_weight\n",
        "            out = model(data.x, data.edge_index, edge_weight)\n",
        "            loss = F.nll_loss(out, data.y, reduction='none')\n",
        "            loss = (loss * data.node_norm)[data.train_mask].sum()\n",
        "        else:\n",
        "            out = model(data.x, data.edge_index)\n",
        "            loss = F.cross_entropy(out[data.train_mask], data.y[data.train_mask])\n",
        "\n",
        "        loss.backward()\n",
        "        optimizer.step()\n",
        "        total_loss += loss.item() * data.num_nodes\n",
        "        total_examples += data.num_nodes\n",
        "    return total_loss / total_examples"
      ],
      "metadata": {
        "colab": {
          "base_uri": "https://localhost:8080/",
          "height": 241
        },
        "id": "LMhk8VrUoZgt",
        "outputId": "d16aab22-324d-409c-9f54-ec320a3bb267"
      },
      "execution_count": null,
      "outputs": [
        {
          "output_type": "error",
          "ename": "NameError",
          "evalue": "ignored",
          "traceback": [
            "\u001b[0;31m---------------------------------------------------------------------------\u001b[0m",
            "\u001b[0;31mNameError\u001b[0m                                 Traceback (most recent call last)",
            "\u001b[0;32m<ipython-input-1-0f0273f69617>\u001b[0m in \u001b[0;36m<cell line: 1>\u001b[0;34m()\u001b[0m\n\u001b[0;32m----> 1\u001b[0;31m \u001b[0mdevice\u001b[0m \u001b[0;34m=\u001b[0m \u001b[0mtorch\u001b[0m\u001b[0;34m.\u001b[0m\u001b[0mdevice\u001b[0m\u001b[0;34m(\u001b[0m\u001b[0;34m'cuda'\u001b[0m \u001b[0;32mif\u001b[0m \u001b[0mtorch\u001b[0m\u001b[0;34m.\u001b[0m\u001b[0mcuda\u001b[0m\u001b[0;34m.\u001b[0m\u001b[0mis_available\u001b[0m\u001b[0;34m(\u001b[0m\u001b[0;34m)\u001b[0m \u001b[0;32melse\u001b[0m \u001b[0;34m'cpu'\u001b[0m\u001b[0;34m)\u001b[0m\u001b[0;34m\u001b[0m\u001b[0;34m\u001b[0m\u001b[0m\n\u001b[0m\u001b[1;32m      2\u001b[0m \u001b[0mmodel\u001b[0m \u001b[0;34m=\u001b[0m \u001b[0mNet\u001b[0m\u001b[0;34m(\u001b[0m\u001b[0mhidden_channels\u001b[0m\u001b[0;34m=\u001b[0m\u001b[0;36m256\u001b[0m\u001b[0;34m)\u001b[0m\u001b[0;34m.\u001b[0m\u001b[0mto\u001b[0m\u001b[0;34m(\u001b[0m\u001b[0mdevice\u001b[0m\u001b[0;34m)\u001b[0m\u001b[0;34m\u001b[0m\u001b[0;34m\u001b[0m\u001b[0m\n\u001b[1;32m      3\u001b[0m \u001b[0moptimizer\u001b[0m \u001b[0;34m=\u001b[0m \u001b[0mtorch\u001b[0m\u001b[0;34m.\u001b[0m\u001b[0moptim\u001b[0m\u001b[0;34m.\u001b[0m\u001b[0mAdam\u001b[0m\u001b[0;34m(\u001b[0m\u001b[0mmodel\u001b[0m\u001b[0;34m.\u001b[0m\u001b[0mparameters\u001b[0m\u001b[0;34m(\u001b[0m\u001b[0;34m)\u001b[0m\u001b[0;34m,\u001b[0m \u001b[0mlr\u001b[0m\u001b[0;34m=\u001b[0m\u001b[0;36m0.001\u001b[0m\u001b[0;34m)\u001b[0m\u001b[0;34m\u001b[0m\u001b[0;34m\u001b[0m\u001b[0m\n\u001b[1;32m      4\u001b[0m \u001b[0;34m\u001b[0m\u001b[0m\n\u001b[1;32m      5\u001b[0m \u001b[0;34m\u001b[0m\u001b[0m\n",
            "\u001b[0;31mNameError\u001b[0m: name 'torch' is not defined"
          ]
        }
      ]
    },
    {
      "cell_type": "markdown",
      "source": [
        "# GraphSAGE\n",
        "Disregard"
      ],
      "metadata": {
        "id": "RjuaU_ieQEkj"
      }
    },
    {
      "cell_type": "code",
      "source": [
        "## Defining GraphSAGE structure\n",
        "class GraphSAGE(torch.nn.Module):\n",
        "    def __init__(self, input_dim, hidden_dim, output_dim, num_layers, dropout_p = 0 ):\n",
        "        super(GraphSAGE, self).__init__()\n",
        "\n",
        "        self.conv_layers = nn.ModuleList(\n",
        "          [SAGEConv(input_dim, hidden_dim)] + \n",
        "          [SAGEConv(hidden_dim, hidden_dim ) for i in range(num_layers - 1)] +\n",
        "          [nn.Linear(hidden_dim,output_dim)]\n",
        "          )\n",
        "        self.p = dropout_p\n",
        "\n",
        "    def forward(self, x, edge_index, batch):\n",
        "      for layer in self.conv_layers[:-1]:\n",
        "\n",
        "        x = layer(x, edge_index)\n",
        "        x = F.relu(x)\n",
        "        x = F.dropout(x, p=self.p)\n",
        "      x = torch_geometric.nn.global_mean_pool(x, batch)\n",
        "      x = self.conv_layers[-1](x)\n",
        "      return F.softmax(x, dim=1)\n",
        "\n",
        "model = GraphSAGE(1,64,1,4)\n",
        "print(model)"
      ],
      "metadata": {
        "colab": {
          "base_uri": "https://localhost:8080/"
        },
        "id": "wYE8saOnQEsJ",
        "outputId": "1f936a27-4ef6-4fdf-cd57-6aa360b7c4ab"
      },
      "execution_count": null,
      "outputs": [
        {
          "output_type": "stream",
          "name": "stdout",
          "text": [
            "GraphSAGE(\n",
            "  (conv_layers): ModuleList(\n",
            "    (0): SAGEConv(1, 64, aggr=mean)\n",
            "    (1-3): 3 x SAGEConv(64, 64, aggr=mean)\n",
            "    (4): Linear(in_features=64, out_features=1, bias=True)\n",
            "  )\n",
            ")\n"
          ]
        }
      ]
    },
    {
      "cell_type": "markdown",
      "source": [
        "# Training"
      ],
      "metadata": {
        "id": "9y3zMp5FtxcE"
      }
    }
  ]
}